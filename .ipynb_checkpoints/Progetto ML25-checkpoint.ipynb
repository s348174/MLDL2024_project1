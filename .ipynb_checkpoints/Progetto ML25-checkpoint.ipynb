{
 "cells": [
  {
   "cell_type": "code",
   "execution_count": null,
   "metadata": {
    "executionInfo": {
     "elapsed": 15781,
     "status": "ok",
     "timestamp": 1746706489815,
     "user": {
      "displayName": "alberto prino",
      "userId": "09725804796439666186"
     },
     "user_tz": -120
    },
    "id": "36xvd24zrqqh"
   },
   "outputs": [],
   "source": [
    "import torch\n",
    "import torch.nn as nn\n",
    "import torch.optim as optim\n",
    "from torch.optim import lr_scheduler\n",
    "import torch.backends.cudnn as cudnn\n",
    "from torch.utils.data import Dataset\n",
    "from torch.utils.data import DataLoader\n",
    "from torchvision import datasets\n",
    "from torchvision.transforms import ToTensor, Lambda\n",
    "from torchvision import transforms\n",
    "\n",
    "import matplotlib.pyplot as plt\n",
    "import numpy as np\n",
    "import plotly.express as px\n",
    "from plotly.subplots import make_subplots\n",
    "import plotly.graph_objects as go\n",
    "import pandas as pd\n",
    "import seaborn as sns\n",
    "\n",
    "import time\n",
    "import os\n",
    "from PIL import Image\n",
    "from tempfile import TemporaryDirectory\n",
    "\n",
    "print(\"Imported modules\")"
   ]
  },
  {
   "cell_type": "code",
   "execution_count": null,
   "metadata": {
    "id": "eRCAYuL9uH_u"
   },
   "outputs": [],
   "source": [
    "# Setup google drive connection\n",
    "from google.colab import drive\n",
    "drive.mount('/content/drive')\n",
    "import gspread\n",
    "from google.auth import default\n",
    "from google.colab import auth\n",
    "\n",
    "# Autenticazione\n",
    "auth.authenticate_user()\n",
    "creds, _ = default()\n",
    "gc = gspread.authorize(creds)"
   ]
  },
  {
   "cell_type": "code",
   "execution_count": null,
   "metadata": {
    "colab": {
     "base_uri": "https://localhost:8080/"
    },
    "executionInfo": {
     "elapsed": 70115,
     "status": "ok",
     "timestamp": 1746706772955,
     "user": {
      "displayName": "alberto prino",
      "userId": "09725804796439666186"
     },
     "user_tz": -120
    },
    "id": "ce9lSdNSyOin",
    "outputId": "8bcd88dd-72ea-44a7-fb8c-ffe1db43fbbc"
   },
   "outputs": [],
   "source": [
    "# Open zipfile\n",
    "import zipfile\n",
    "zip_path = '/content/drive/MyDrive/machine_learning_shared_2025/Cityscapes.zip'\n",
    "with zipfile.ZipFile(zip_path) as z:\n",
    "  with TemporaryDirectory() as tmpdir:\n",
    "    z.extractall(tmpdir)\n",
    "    image_folder_path=tmpdir+\"/Cityscapes/Cityspaces/images/train\"\n",
    "    train_data = datasets.ImageFolder(\n",
    "        root=image_folder_path,\n",
    "        transform=ToTensor()\n",
    "    )\n",
    "    test_folder_path=tmpdir+\"/Cityscapes/Cityspaces/images/test\"\n",
    "    test_data = datasets.ImageFolder(\n",
    "        root=image_folder_path,\n",
    "        transform=ToTensor()\n",
    "    )"
   ]
  },
  {
   "cell_type": "code",
   "execution_count": null,
   "metadata": {},
   "outputs": [],
   "source": []
  }
 ],
 "metadata": {
  "colab": {
   "authorship_tag": "ABX9TyMajwr1WZuuAi53vIChRzSL",
   "provenance": []
  },
  "kernelspec": {
   "display_name": "Python 3 (ipykernel)",
   "language": "python",
   "name": "python3"
  },
  "language_info": {
   "name": "python"
  }
 },
 "nbformat": 4,
 "nbformat_minor": 4
}
