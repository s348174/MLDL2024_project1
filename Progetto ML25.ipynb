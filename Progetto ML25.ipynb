{
  "cells": [
    {
      "cell_type": "code",
      "execution_count": 1,
      "metadata": {
        "id": "36xvd24zrqqh"
      },
      "outputs": [],
      "source": [
        "import torch\n",
        "import torch.nn as nn\n",
        "import torch.optim as optim\n",
        "from torch.optim import lr_scheduler\n",
        "import torch.backends.cudnn as cudnn\n",
        "from torch.utils.data import Dataset\n",
        "from torch.utils.data import DataLoader\n",
        "from torchvision import datasets\n",
        "from torchvision.transforms import ToTensor, Lambda\n",
        "from torchvision import transforms\n",
        "\n",
        "import matplotlib.pyplot as plt\n",
        "import numpy as np\n",
        "import plotly.express as px\n",
        "from plotly.subplots import make_subplots\n",
        "import plotly.graph_objects as go\n",
        "import pandas as pd\n",
        "import seaborn as sns\n",
        "\n",
        "import time\n",
        "import os\n",
        "from PIL import Image\n",
        "from tempfile import TemporaryDirectory"
      ]
    },
    {
      "cell_type": "code",
      "execution_count": 2,
      "metadata": {
        "colab": {
          "base_uri": "https://localhost:8080/"
        },
        "id": "eRCAYuL9uH_u",
        "outputId": "afa662e2-3dba-4faf-c841-de83a3e2b270"
      },
      "outputs": [
        {
          "output_type": "stream",
          "name": "stdout",
          "text": [
            "Mounted at /content/drive\n"
          ]
        }
      ],
      "source": [
        "# NEED TO RUN AT AVERY NEW RUNTIME\n",
        "# Setup google drive connection\n",
        "from google.colab import drive\n",
        "drive.mount('/content/drive', force_remount=True)\n",
        "import gspread\n",
        "from google.auth import default\n",
        "from google.colab import auth\n",
        "\n",
        "# Autenticazione\n",
        "auth.authenticate_user()\n",
        "creds, _ = default()\n",
        "gc = gspread.authorize(creds)"
      ]
    },
    {
      "cell_type": "code",
      "execution_count": null,
      "metadata": {
        "colab": {
          "base_uri": "https://localhost:8080/"
        },
        "id": "jq91B_2IAZcN",
        "outputId": "d6a6acfe-e204-497b-f980-72803305e576"
      },
      "outputs": [
        {
          "name": "stdout",
          "output_type": "stream",
          "text": [
            "/content/drive/MyDrive\n",
            "Cloning into 'MLDL2024_project1'...\n",
            "remote: Enumerating objects: 80, done.\u001b[K\n",
            "remote: Counting objects: 100% (69/69), done.\u001b[K\n",
            "remote: Compressing objects: 100% (55/55), done.\u001b[K\n",
            "remote: Total 80 (delta 25), reused 45 (delta 13), pack-reused 11 (from 2)\u001b[K\n",
            "Receiving objects: 100% (80/80), 752.09 KiB | 8.09 MiB/s, done.\n",
            "Resolving deltas: 100% (25/25), done.\n"
          ]
        }
      ],
      "source": [
        "# TO BE RUNNED JUST THE FIRST TIME!\n",
        "# Setup git integration\n",
        "%cd /content/drive/MyDrive\n",
        "!git clone https://github.com/s348174/MLDL2024_project1.git\n",
        "%cd"
      ]
    },
    {
      "cell_type": "code",
      "execution_count": 4,
      "metadata": {
        "colab": {
          "base_uri": "https://localhost:8080/"
        },
        "id": "XvTUimb9uK5Z",
        "outputId": "1bcf985b-767c-411f-fb0a-55bd0b17fc43"
      },
      "outputs": [
        {
          "output_type": "stream",
          "name": "stdout",
          "text": [
            "/content/drive/MyDrive/MLDL2024_project1\n",
            "Updating 4636be3..c0235e1\n",
            "error: The following untracked working tree files would be overwritten by merge:\n",
            "\t__pycache__/train.cpython-311.pyc\n",
            "Please move or remove them before you merge.\n",
            "Aborting\n",
            "/root\n"
          ]
        }
      ],
      "source": [
        "# RUN EVERYTIME IN ORDER TO AVOID CONFLICTS\n",
        "# Update drive git directory\n",
        "%cd /content/drive/MyDrive/MLDL2024_project1\n",
        "!git pull --force\n",
        "%cd"
      ]
    },
    {
      "cell_type": "code",
      "execution_count": 6,
      "metadata": {
        "colab": {
          "base_uri": "https://localhost:8080/",
          "height": 507
        },
        "id": "ce9lSdNSyOin",
        "outputId": "07b2e355-0dd8-4213-937a-ec8a3874a54e"
      },
      "outputs": [
        {
          "output_type": "error",
          "ename": "ModuleNotFoundError",
          "evalue": "No module named 'datasets.cityscapes'",
          "traceback": [
            "\u001b[0;31m---------------------------------------------------------------------------\u001b[0m",
            "\u001b[0;31mModuleNotFoundError\u001b[0m                       Traceback (most recent call last)",
            "\u001b[0;32m<ipython-input-6-8ff9961e2ff2>\u001b[0m in \u001b[0;36m<cell line: 0>\u001b[0;34m()\u001b[0m\n\u001b[1;32m     10\u001b[0m \u001b[0mmodels_path\u001b[0m \u001b[0;34m=\u001b[0m \u001b[0;34m'/content/drive/MyDrive/MLDL2024_project1/models/deeplabv2'\u001b[0m\u001b[0;34m\u001b[0m\u001b[0;34m\u001b[0m\u001b[0m\n\u001b[1;32m     11\u001b[0m \u001b[0msys\u001b[0m\u001b[0;34m.\u001b[0m\u001b[0mpath\u001b[0m\u001b[0;34m.\u001b[0m\u001b[0mappend\u001b[0m\u001b[0;34m(\u001b[0m\u001b[0mmodels_path\u001b[0m\u001b[0;34m)\u001b[0m\u001b[0;34m\u001b[0m\u001b[0;34m\u001b[0m\u001b[0m\n\u001b[0;32m---> 12\u001b[0;31m \u001b[0;32mfrom\u001b[0m \u001b[0mtrain\u001b[0m \u001b[0;32mimport\u001b[0m \u001b[0mdeeplab_train\u001b[0m\u001b[0;34m,\u001b[0m \u001b[0mdeeplab_test\u001b[0m\u001b[0;34m\u001b[0m\u001b[0;34m\u001b[0m\u001b[0m\n\u001b[0m\u001b[1;32m     13\u001b[0m \u001b[0;34m\u001b[0m\u001b[0m\n\u001b[1;32m     14\u001b[0m \u001b[0;31m# Open zipfile\u001b[0m\u001b[0;34m\u001b[0m\u001b[0;34m\u001b[0m\u001b[0m\n",
            "\u001b[0;32m/content/drive/MyDrive/MLDL2024_project1/train.py\u001b[0m in \u001b[0;36m<module>\u001b[0;34m\u001b[0m\n\u001b[1;32m      5\u001b[0m \u001b[0;32mfrom\u001b[0m \u001b[0mtorch\u001b[0m\u001b[0;34m.\u001b[0m\u001b[0mutils\u001b[0m\u001b[0;34m.\u001b[0m\u001b[0mdata\u001b[0m \u001b[0;32mimport\u001b[0m \u001b[0mDataLoader\u001b[0m\u001b[0;34m\u001b[0m\u001b[0;34m\u001b[0m\u001b[0m\n\u001b[1;32m      6\u001b[0m \u001b[0;32mfrom\u001b[0m \u001b[0mtorchvision\u001b[0m \u001b[0;32mimport\u001b[0m \u001b[0mtransforms\u001b[0m\u001b[0;34m\u001b[0m\u001b[0;34m\u001b[0m\u001b[0m\n\u001b[0;32m----> 7\u001b[0;31m \u001b[0;32mfrom\u001b[0m \u001b[0mdatasets\u001b[0m\u001b[0;34m.\u001b[0m\u001b[0mcityscapes\u001b[0m \u001b[0;32mimport\u001b[0m \u001b[0mCityScapesSegmentation\u001b[0m\u001b[0;34m\u001b[0m\u001b[0;34m\u001b[0m\u001b[0m\n\u001b[0m\u001b[1;32m      8\u001b[0m \u001b[0;32mimport\u001b[0m \u001b[0mmatplotlib\u001b[0m\u001b[0;34m.\u001b[0m\u001b[0mpyplot\u001b[0m \u001b[0;32mas\u001b[0m \u001b[0mplt\u001b[0m\u001b[0;34m\u001b[0m\u001b[0;34m\u001b[0m\u001b[0m\n\u001b[1;32m      9\u001b[0m \u001b[0;32mimport\u001b[0m \u001b[0mnumpy\u001b[0m \u001b[0;32mas\u001b[0m \u001b[0mnp\u001b[0m\u001b[0;34m\u001b[0m\u001b[0;34m\u001b[0m\u001b[0m\n",
            "\u001b[0;31mModuleNotFoundError\u001b[0m: No module named 'datasets.cityscapes'",
            "",
            "\u001b[0;31m---------------------------------------------------------------------------\u001b[0;32m\nNOTE: If your import is failing due to a missing package, you can\nmanually install dependencies using either !pip or !apt.\n\nTo view examples of installing some common dependencies, click the\n\"Open Examples\" button below.\n\u001b[0;31m---------------------------------------------------------------------------\u001b[0m\n"
          ],
          "errorDetails": {
            "actions": [
              {
                "action": "open_url",
                "actionText": "Open Examples",
                "url": "/notebooks/snippets/importing_libraries.ipynb"
              }
            ]
          }
        }
      ],
      "source": [
        "import sys\n",
        "import os\n",
        "from tempfile import TemporaryDirectory\n",
        "\n",
        "# Add the directory containing train.py to the system path\n",
        "google_drive_path = '/content/drive/MyDrive/MLDL2024_project1'\n",
        "sys.path.append(google_drive_path)\n",
        "#datasets_folder_path = '/content/drive/MyDrive/MLDL2024_project1/datasets'\n",
        "#sys.path.append(datasets_folder_path)\n",
        "#models_path = '/content/drive/MyDrive/MLDL2024_project1/models/deeplabv2'\n",
        "#sys.path.append(models_path)\n",
        "from train import deeplab_train, deeplab_test\n",
        "\n",
        "# Open zipfile\n",
        "import zipfile\n",
        "zip_path = '/content/drive/MyDrive/machine_learning_shared_2025/Cityscapes.zip'\n",
        "workspace_path = google_drive_path\n",
        "with zipfile.ZipFile(zip_path) as z:\n",
        "  # Mostra i file contenuti\n",
        "  #print(\"Contenuto dello ZIP:\", z.namelist())\n",
        "  with TemporaryDirectory() as tmpdir:\n",
        "    z.extractall(tmpdir)\n",
        "    #image_folder_path=tmpdir+\"/Cityscapes/Cityspaces/images/train\"\n",
        "    #train_data = datasets.ImageFolder(\n",
        "    #    root=image_folder_path,\n",
        "    #    transform=ToTensor()\n",
        "    #)\n",
        "    #test_folder_path=tmpdir+\"/Cityscapes/Cityspaces/images/test\"\n",
        "    #test_data = datasets.ImageFolder(\n",
        "    #    root=image_folder_path,\n",
        "    #    transform=ToTensor()\n",
        "    #)\n",
        "\n",
        "    # Creates symlink to data folder\n",
        "    real_path = \"tmpdir\"\n",
        "    #destinazione_symlink = \"/tmp/tmpcp08lfus\"\n",
        "    #if not os.path.exists(destinazione_symlink):\n",
        "    #    os.symlink(real_path, destinazione_symlink)\n",
        "\n",
        "    dataset_path = tmpdir+\"/Cityscapes/Cityspaces\"\n",
        "    deeplab_train(dataset_path, workspace_path)\n",
        "    #model_path = workspace_path + \"/export/deeplabv2_final.pth\"\n",
        "    deeplab_test(dataset_path, workspace_path)"
      ]
    },
    {
      "cell_type": "code",
      "execution_count": null,
      "metadata": {
        "id": "9pt4D4j89jTY"
      },
      "outputs": [],
      "source": []
    }
  ],
  "metadata": {
    "accelerator": "GPU",
    "colab": {
      "gpuType": "T4",
      "provenance": []
    },
    "kernelspec": {
      "display_name": "Python 3 (ipykernel)",
      "language": "python",
      "name": "python3"
    },
    "language_info": {
      "name": "python"
    }
  },
  "nbformat": 4,
  "nbformat_minor": 0
}