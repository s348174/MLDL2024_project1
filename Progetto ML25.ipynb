{
  "cells": [
    {
      "cell_type": "code",
      "execution_count": 1,
      "metadata": {
        "id": "36xvd24zrqqh",
        "outputId": "dffeafb6-56e0-4a77-edf4-64dcb264e679",
        "colab": {
          "base_uri": "https://localhost:8080/"
        }
      },
      "outputs": [
        {
          "output_type": "stream",
          "name": "stdout",
          "text": [
            "Collecting fvcore\n",
            "  Downloading fvcore-0.1.5.post20221221.tar.gz (50 kB)\n",
            "\u001b[2K     \u001b[90m━━━━━━━━━━━━━━━━━━━━━━━━━━━━━━━━━━━━━━━━\u001b[0m \u001b[32m50.2/50.2 kB\u001b[0m \u001b[31m3.8 MB/s\u001b[0m eta \u001b[36m0:00:00\u001b[0m\n",
            "\u001b[?25h  Preparing metadata (setup.py) ... \u001b[?25l\u001b[?25hdone\n",
            "Requirement already satisfied: numpy in /usr/local/lib/python3.11/dist-packages (from fvcore) (2.0.2)\n",
            "Collecting yacs>=0.1.6 (from fvcore)\n",
            "  Downloading yacs-0.1.8-py3-none-any.whl.metadata (639 bytes)\n",
            "Requirement already satisfied: pyyaml>=5.1 in /usr/local/lib/python3.11/dist-packages (from fvcore) (6.0.2)\n",
            "Requirement already satisfied: tqdm in /usr/local/lib/python3.11/dist-packages (from fvcore) (4.67.1)\n",
            "Requirement already satisfied: termcolor>=1.1 in /usr/local/lib/python3.11/dist-packages (from fvcore) (3.1.0)\n",
            "Requirement already satisfied: Pillow in /usr/local/lib/python3.11/dist-packages (from fvcore) (11.2.1)\n",
            "Requirement already satisfied: tabulate in /usr/local/lib/python3.11/dist-packages (from fvcore) (0.9.0)\n",
            "Collecting iopath>=0.1.7 (from fvcore)\n",
            "  Downloading iopath-0.1.10.tar.gz (42 kB)\n",
            "\u001b[2K     \u001b[90m━━━━━━━━━━━━━━━━━━━━━━━━━━━━━━━━━━━━━━━━\u001b[0m \u001b[32m42.2/42.2 kB\u001b[0m \u001b[31m4.7 MB/s\u001b[0m eta \u001b[36m0:00:00\u001b[0m\n",
            "\u001b[?25h  Preparing metadata (setup.py) ... \u001b[?25l\u001b[?25hdone\n",
            "Requirement already satisfied: typing_extensions in /usr/local/lib/python3.11/dist-packages (from iopath>=0.1.7->fvcore) (4.13.2)\n",
            "Collecting portalocker (from iopath>=0.1.7->fvcore)\n",
            "  Downloading portalocker-3.1.1-py3-none-any.whl.metadata (8.6 kB)\n",
            "Downloading yacs-0.1.8-py3-none-any.whl (14 kB)\n",
            "Downloading portalocker-3.1.1-py3-none-any.whl (19 kB)\n",
            "Building wheels for collected packages: fvcore, iopath\n",
            "  Building wheel for fvcore (setup.py) ... \u001b[?25l\u001b[?25hdone\n",
            "  Created wheel for fvcore: filename=fvcore-0.1.5.post20221221-py3-none-any.whl size=61397 sha256=434df635fcba288f306ab6105799608f3c8b87d0c03a81282c6fb0c9f1bea0ce\n",
            "  Stored in directory: /root/.cache/pip/wheels/65/71/95/3b8fde5c65c6e4a806e0867c1651dcc71a1cb2f3430e8f355f\n",
            "  Building wheel for iopath (setup.py) ... \u001b[?25l\u001b[?25hdone\n",
            "  Created wheel for iopath: filename=iopath-0.1.10-py3-none-any.whl size=31527 sha256=ff2e296e110c94594356b2352ec920eef95f09f4c9ce2becf184063d90cbeeed\n",
            "  Stored in directory: /root/.cache/pip/wheels/ba/5e/16/6117f8fe7e9c0c161a795e10d94645ebcf301ccbd01f66d8ec\n",
            "Successfully built fvcore iopath\n",
            "Installing collected packages: yacs, portalocker, iopath, fvcore\n",
            "Successfully installed fvcore-0.1.5.post20221221 iopath-0.1.10 portalocker-3.1.1 yacs-0.1.8\n"
          ]
        }
      ],
      "source": [
        "# 1: RUN AT EVERY NEW RUNTIME\n",
        "import torch\n",
        "import torch.nn as nn\n",
        "import torch.optim as optim\n",
        "from torch.optim import lr_scheduler\n",
        "import torch.backends.cudnn as cudnn\n",
        "from torch.utils.data import Dataset\n",
        "from torch.utils.data import DataLoader\n",
        "from torchvision import datasets\n",
        "from torchvision.transforms import ToTensor, Lambda\n",
        "from torchvision import transforms\n",
        "\n",
        "import matplotlib.pyplot as plt\n",
        "import numpy as np\n",
        "import plotly.express as px\n",
        "from plotly.subplots import make_subplots\n",
        "import plotly.graph_objects as go\n",
        "import pandas as pd\n",
        "import seaborn as sns\n",
        "\n",
        "import time\n",
        "import os\n",
        "from PIL import Image\n",
        "from tempfile import TemporaryDirectory\n",
        "\n",
        "# Install fvcore\n",
        "!pip install fvcore"
      ]
    },
    {
      "cell_type": "code",
      "execution_count": 10,
      "metadata": {
        "colab": {
          "base_uri": "https://localhost:8080/"
        },
        "id": "eRCAYuL9uH_u",
        "outputId": "a9d4e3fd-34c8-4c8a-d34e-3dd8d2b11c1d"
      },
      "outputs": [
        {
          "output_type": "stream",
          "name": "stdout",
          "text": [
            "Mounted at /content/drive\n"
          ]
        }
      ],
      "source": [
        "# 2: NEED TO RUN AT AVERY NEW RUNTIME\n",
        "# Setup google drive connection\n",
        "from google.colab import drive\n",
        "drive.mount('/content/drive', force_remount=True)\n",
        "import gspread\n",
        "from google.auth import default\n",
        "from google.colab import auth\n",
        "\n",
        "# Autenticazione\n",
        "auth.authenticate_user()\n",
        "creds, _ = default()\n",
        "gc = gspread.authorize(creds)"
      ]
    },
    {
      "cell_type": "code",
      "execution_count": null,
      "metadata": {
        "colab": {
          "base_uri": "https://localhost:8080/"
        },
        "id": "jq91B_2IAZcN",
        "outputId": "fb67b4dc-a8fa-47db-907f-4a36cef3b655"
      },
      "outputs": [
        {
          "output_type": "stream",
          "name": "stderr",
          "text": [
            "UsageError: Line magic function `%#cd` not found.\n"
          ]
        }
      ],
      "source": [
        "# TO BE RUNNED JUST THE FIRST TIME!\n",
        "# Setup git integration\n",
        "#%cd /content/drive/MyDrive\n",
        "#!git clone https://github.com/s348174/MLDL2024_project1.git\n",
        "#%cd"
      ]
    },
    {
      "cell_type": "code",
      "execution_count": 3,
      "metadata": {
        "colab": {
          "base_uri": "https://localhost:8080/"
        },
        "id": "XvTUimb9uK5Z",
        "outputId": "a2413482-a259-4ba4-9306-44352d8a924b"
      },
      "outputs": [
        {
          "output_type": "stream",
          "name": "stdout",
          "text": [
            "/content/drive/MyDrive/MLDL2024_project1\n",
            "remote: Enumerating objects: 12, done.\u001b[K\n",
            "remote: Counting objects: 100% (12/12), done.\u001b[K\n",
            "remote: Compressing objects: 100% (7/7), done.\u001b[K\n",
            "remote: Total 9 (delta 6), reused 3 (delta 2), pack-reused 0 (from 0)\u001b[K\n",
            "Unpacking objects: 100% (9/9), 1.78 KiB | 0 bytes/s, done.\n",
            "From https://github.com/s348174/MLDL2024_project1\n",
            "   1880a8d..0d3327b  master     -> origin/master\n",
            "Updating 1880a8d..0d3327b\n",
            "Fast-forward\n",
            " Progetto ML25.ipynb | 84 \u001b[32m+++++++++++++++++++\u001b[m\u001b[31m----------------------------------\u001b[m\n",
            " local_launch.py     |  6 \u001b[32m++\u001b[m\u001b[31m--\u001b[m\n",
            " 2 files changed, 33 insertions(+), 57 deletions(-)\n",
            "/root\n"
          ]
        }
      ],
      "source": [
        "# 3. RUN EVERYTIME IN ORDER TO AVOID CONFLICTS\n",
        "# Update drive git directory\n",
        "%cd /content/drive/MyDrive/MLDL2024_project1\n",
        "!git pull\n",
        "%cd\n",
        "# 4. RUN AGAIN POINT N.2"
      ]
    },
    {
      "cell_type": "code",
      "execution_count": null,
      "metadata": {
        "colab": {
          "base_uri": "https://localhost:8080/"
        },
        "id": "ce9lSdNSyOin",
        "outputId": "5023115a-f742-4313-96d7-246b9da6ac8b"
      },
      "outputs": [
        {
          "output_type": "stream",
          "name": "stdout",
          "text": [
            "Found 500 images and 500 labels\n",
            "Image map: 500\n",
            "Matched 500 image-label pairs\n",
            "Running inference...\n",
            "Iteration 0/500, Latency: 0.6607s, FPS: 1.51\n",
            "Iteration 10/500, Latency: 0.0163s, FPS: 61.53\n",
            "Iteration 20/500, Latency: 0.0202s, FPS: 49.46\n",
            "Iteration 30/500, Latency: 0.0130s, FPS: 77.22\n",
            "Iteration 40/500, Latency: 0.0163s, FPS: 61.47\n",
            "Iteration 50/500, Latency: 0.0133s, FPS: 75.11\n",
            "Iteration 60/500, Latency: 0.0130s, FPS: 76.79\n",
            "Iteration 70/500, Latency: 0.0138s, FPS: 72.64\n",
            "Iteration 80/500, Latency: 0.0132s, FPS: 75.69\n",
            "Iteration 90/500, Latency: 0.0141s, FPS: 71.07\n",
            "Iteration 100/500, Latency: 0.0141s, FPS: 71.04\n",
            "Iteration 110/500, Latency: 0.0173s, FPS: 57.83\n",
            "Iteration 120/500, Latency: 0.0127s, FPS: 78.99\n",
            "Iteration 130/500, Latency: 0.0129s, FPS: 77.38\n",
            "Iteration 140/500, Latency: 0.0128s, FPS: 78.02\n",
            "Iteration 150/500, Latency: 0.0131s, FPS: 76.29\n",
            "Iteration 160/500, Latency: 0.0157s, FPS: 63.62\n",
            "Iteration 170/500, Latency: 0.0129s, FPS: 77.64\n",
            "Iteration 180/500, Latency: 0.0167s, FPS: 59.87\n",
            "Iteration 190/500, Latency: 0.0129s, FPS: 77.63\n",
            "Iteration 200/500, Latency: 0.0137s, FPS: 72.95\n",
            "Iteration 210/500, Latency: 0.0132s, FPS: 75.94\n",
            "Iteration 220/500, Latency: 0.0188s, FPS: 53.18\n",
            "Iteration 230/500, Latency: 0.0131s, FPS: 76.34\n",
            "Iteration 240/500, Latency: 0.0140s, FPS: 71.31\n",
            "Iteration 250/500, Latency: 0.0176s, FPS: 56.86\n",
            "Iteration 260/500, Latency: 0.0145s, FPS: 68.81\n",
            "Iteration 270/500, Latency: 0.0131s, FPS: 76.21\n",
            "Iteration 280/500, Latency: 0.0129s, FPS: 77.49\n",
            "Iteration 290/500, Latency: 0.0128s, FPS: 78.17\n",
            "Iteration 300/500, Latency: 0.0133s, FPS: 75.04\n",
            "Iteration 310/500, Latency: 0.0133s, FPS: 75.42\n",
            "Iteration 320/500, Latency: 0.0175s, FPS: 57.27\n",
            "Iteration 330/500, Latency: 0.0130s, FPS: 76.91\n",
            "Iteration 340/500, Latency: 0.0132s, FPS: 75.92\n",
            "Iteration 350/500, Latency: 0.0129s, FPS: 77.63\n",
            "Iteration 360/500, Latency: 0.0130s, FPS: 77.15\n",
            "Iteration 370/500, Latency: 0.0131s, FPS: 76.16\n",
            "Iteration 380/500, Latency: 0.0129s, FPS: 77.53\n",
            "Iteration 390/500, Latency: 0.0169s, FPS: 59.34\n",
            "Iteration 400/500, Latency: 0.0138s, FPS: 72.72\n",
            "Iteration 410/500, Latency: 0.0137s, FPS: 72.82\n"
          ]
        }
      ],
      "source": [
        "# 5. RUN THIS CELL TO TRAIN\n",
        "import sys\n",
        "import os\n",
        "from tempfile import TemporaryDirectory\n",
        "\n",
        "# Add the directory containing train.py to the system path\n",
        "google_drive_path = '/content/drive/MyDrive/MLDL2024_project1'\n",
        "sys.path.append(google_drive_path)\n",
        "datasets_folder_path = '/content/drive/MyDrive/MLDL2024_project1/datasets'\n",
        "sys.path.append(datasets_folder_path)\n",
        "models_path = '/content/drive/MyDrive/MLDL2024_project1/models/deeplabv2'\n",
        "sys.path.append(models_path)\n",
        "from train import deeplab_train, deeplab_test\n",
        "\n",
        "# Open zipfile\n",
        "import zipfile\n",
        "zip_path = '/content/drive/MyDrive/machine_learning_shared_2025/Cityscapes.zip'\n",
        "workspace_path = google_drive_path\n",
        "with zipfile.ZipFile(zip_path) as z:\n",
        "  # Mostra i file contenuti\n",
        "  #print(\"Contenuto dello ZIP:\", z.namelist())\n",
        "  with TemporaryDirectory() as tmpdir:\n",
        "    z.extractall(tmpdir)\n",
        "    #image_folder_path=tmpdir+\"/Cityscapes/Cityspaces/images/train\"\n",
        "    #train_data = datasets.ImageFolder(\n",
        "    #    root=image_folder_path,\n",
        "    #    transform=ToTensor()\n",
        "    #)\n",
        "    #test_folder_path=tmpdir+\"/Cityscapes/Cityspaces/images/test\"\n",
        "    #test_data = datasets.ImageFolder(\n",
        "    #    root=image_folder_path,\n",
        "    #    transform=ToTensor()\n",
        "    #)\n",
        "\n",
        "    # Creates symlink to data folder\n",
        "    real_path = \"tmpdir\"\n",
        "    #destinazione_symlink = \"/tmp/tmpcp08lfus\"\n",
        "    #if not os.path.exists(destinazione_symlink):\n",
        "    #    os.symlink(real_path, destinazione_symlink)\n",
        "\n",
        "    num_epochs = 23\n",
        "    dataset_path = tmpdir+\"/Cityscapes/Cityspaces\"\n",
        "    pretrained_path = workspace_path + \"/export/deeplabv2_epoch_26.pth\"\n",
        "    deeplab_train(dataset_path, workspace_path, pretrained_path, num_epochs = num_epochs)\n",
        "    model_path = workspace_path + \"/export/deeplabv2_final.pth\"\n",
        "    deeplab_test(dataset_path, model_path)"
      ]
    },
    {
      "cell_type": "code",
      "execution_count": null,
      "metadata": {
        "id": "9pt4D4j89jTY"
      },
      "outputs": [],
      "source": []
    }
  ],
  "metadata": {
    "accelerator": "GPU",
    "colab": {
      "gpuType": "T4",
      "provenance": []
    },
    "kernelspec": {
      "display_name": "Python 3",
      "name": "python3"
    },
    "language_info": {
      "name": "python"
    }
  },
  "nbformat": 4,
  "nbformat_minor": 0
}