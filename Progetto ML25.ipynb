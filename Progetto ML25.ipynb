{
  "nbformat": 4,
  "nbformat_minor": 0,
  "metadata": {
    "colab": {
      "provenance": []
    },
    "kernelspec": {
      "name": "python3",
      "display_name": "Python 3"
    },
    "language_info": {
      "name": "python"
    }
  },
  "cells": [
    {
      "cell_type": "code",
      "execution_count": null,
      "metadata": {
        "id": "36xvd24zrqqh"
      },
      "outputs": [],
      "source": [
        "import torch\n",
        "import torch.nn as nn\n",
        "import torch.optim as optim\n",
        "from torch.optim import lr_scheduler\n",
        "import torch.backends.cudnn as cudnn\n",
        "from torch.utils.data import Dataset\n",
        "from torch.utils.data import DataLoader\n",
        "from torchvision import datasets\n",
        "from torchvision.transforms import ToTensor, Lambda\n",
        "from torchvision import transforms\n",
        "\n",
        "import matplotlib.pyplot as plt\n",
        "import numpy as np\n",
        "import plotly.express as px\n",
        "from plotly.subplots import make_subplots\n",
        "import plotly.graph_objects as go\n",
        "import pandas as pd\n",
        "import seaborn as sns\n",
        "\n",
        "import time\n",
        "import os\n",
        "from PIL import Image\n",
        "from tempfile import TemporaryDirectory"
      ]
    },
    {
      "cell_type": "code",
      "source": [
        "# PROBABLY NEED TO RUN EVERYTIME AFTER YOU CLOSED COLAB\n",
        "# Setup google drive connection\n",
        "from google.colab import drive\n",
        "drive.mount('/content/drive')\n",
        "import gspread\n",
        "from google.auth import default\n",
        "from google.colab import auth\n",
        "\n",
        "# Autenticazione\n",
        "auth.authenticate_user()\n",
        "creds, _ = default()\n",
        "gc = gspread.authorize(creds)"
      ],
      "metadata": {
        "id": "eRCAYuL9uH_u",
        "colab": {
          "base_uri": "https://localhost:8080/"
        },
        "outputId": "ac44acc6-af59-4311-942f-7f6e46814d59"
      },
      "execution_count": null,
      "outputs": [
        {
          "output_type": "stream",
          "name": "stdout",
          "text": [
            "Drive already mounted at /content/drive; to attempt to forcibly remount, call drive.mount(\"/content/drive\", force_remount=True).\n"
          ]
        }
      ]
    },
    {
      "cell_type": "code",
      "source": [
        "# TO BE RUNNED JUST THE FIRST TIME!\n",
        "# Setup git integration\n",
        "%cd /content/drive/MyDrive\n",
        "!git clone https://github.com/s348174/MLDL2024_project1.git\n",
        "%cd"
      ],
      "metadata": {
        "id": "jq91B_2IAZcN",
        "outputId": "d6a6acfe-e204-497b-f980-72803305e576",
        "colab": {
          "base_uri": "https://localhost:8080/"
        }
      },
      "execution_count": null,
      "outputs": [
        {
          "output_type": "stream",
          "name": "stdout",
          "text": [
            "/content/drive/MyDrive\n",
            "Cloning into 'MLDL2024_project1'...\n",
            "remote: Enumerating objects: 80, done.\u001b[K\n",
            "remote: Counting objects: 100% (69/69), done.\u001b[K\n",
            "remote: Compressing objects: 100% (55/55), done.\u001b[K\n",
            "remote: Total 80 (delta 25), reused 45 (delta 13), pack-reused 11 (from 2)\u001b[K\n",
            "Receiving objects: 100% (80/80), 752.09 KiB | 8.09 MiB/s, done.\n",
            "Resolving deltas: 100% (25/25), done.\n"
          ]
        }
      ]
    },
    {
      "cell_type": "code",
      "source": [
        "# RUN EVERYTIME IN ORDER TO AVOID CONFLICTS\n",
        "# Update drive git directory\n",
        "%cd /content/drive/MyDrive/MLDL2024_project1\n",
        "!git pull\n",
        "%cd"
      ],
      "metadata": {
        "id": "XvTUimb9uK5Z",
        "outputId": "1d1d28ff-edb6-48d3-9923-eb2ff85bf9ac",
        "colab": {
          "base_uri": "https://localhost:8080/"
        }
      },
      "execution_count": null,
      "outputs": [
        {
          "output_type": "stream",
          "name": "stdout",
          "text": [
            "/content/drive/MyDrive/MLDL2024_project1\n",
            "remote: Enumerating objects: 51, done.\u001b[K\n",
            "remote: Counting objects: 100% (46/46), done.\u001b[K\n",
            "remote: Compressing objects: 100% (23/23), done.\u001b[K\n",
            "remote: Total 31 (delta 15), reused 19 (delta 7), pack-reused 0 (from 0)\u001b[K\n",
            "Unpacking objects: 100% (31/31), 8.74 KiB | 21.00 KiB/s, done.\n",
            "From https://github.com/s348174/MLDL2024_project1\n",
            "   7fd575a..ef7a6d9  master     -> origin/master\n",
            "Updating 7fd575a..ef7a6d9\n",
            "Fast-forward\n",
            " .ipynb_checkpoints/Progetto ML25-checkpoint.ipynb | 133 \u001b[32m++++++++++++++++++++++\u001b[m\n",
            " .ipynb_checkpoints/train-checkpoint.py            |  77 \u001b[32m+++++++++++++\u001b[m\n",
            " Progetto ML25.ipynb                               |  56 \u001b[32m+++++++\u001b[m\u001b[31m--\u001b[m\n",
            " train.py                                          | 116 \u001b[32m++++++++++\u001b[m\u001b[31m---------\u001b[m\n",
            " 4 files changed, 323 insertions(+), 59 deletions(-)\n",
            " create mode 100644 .ipynb_checkpoints/Progetto ML25-checkpoint.ipynb\n",
            " create mode 100644 .ipynb_checkpoints/train-checkpoint.py\n",
            "/root\n"
          ]
        }
      ]
    },
    {
      "cell_type": "code",
      "source": [
        "import sys\n",
        "import os\n",
        "\n",
        "# Add the directory containing train.py to the system path\n",
        "google_drive_path = '/content/drive/MyDrive/MLDL2024_project1'\n",
        "sys.path.append(google_drive_path)\n",
        "\n",
        "# Now you should be able to import:\n",
        "from train import deeplab_train\n",
        "\n",
        "# Open zipfile\n",
        "import zipfile\n",
        "zip_path = '/content/drive/MyDrive/machine_learning_shared_2025/Cityscapes.zip'\n",
        "with zipfile.ZipFile(zip_path) as z:\n",
        "  # Mostra i file contenuti\n",
        "  #print(\"Contenuto dello ZIP:\", z.namelist())\n",
        "  with TemporaryDirectory() as tmpdir:\n",
        "    z.extractall(tmpdir)\n",
        "    #image_folder_path=tmpdir+\"/Cityscapes/Cityspaces/images/train\"\n",
        "    #train_data = datasets.ImageFolder(\n",
        "    #    root=image_folder_path,\n",
        "    #    transform=ToTensor()\n",
        "    #)\n",
        "    #test_folder_path=tmpdir+\"/Cityscapes/Cityspaces/images/test\"\n",
        "    #test_data = datasets.ImageFolder(\n",
        "    #    root=image_folder_path,\n",
        "    #    transform=ToTensor()\n",
        "    #)\n",
        "\n",
        "    # Creates symlink to data folder\n",
        "    real_path = \"/content/drive/MyDrive/progetto/dati_cityscapes\"\n",
        "    destinazione_symlink = \"/tmp/tmpcp08lfus\"\n",
        "    if not os.path.exists(destinazione_symlink):\n",
        "        os.symlink(reale_path, destinazione_symlink)\n",
        "\n",
        "    dataset_path = tmpdir+\"/Cityscapes/Cityspaces\"\n",
        "    deeplab_train(dataset_path)"
      ],
      "metadata": {
        "colab": {
          "base_uri": "https://localhost:8080/",
          "height": 322
        },
        "id": "ce9lSdNSyOin",
        "outputId": "9c262de3-6d23-4692-a060-7e212cc2fb9e"
      },
      "execution_count": null,
      "outputs": [
        {
          "output_type": "error",
          "ename": "FileNotFoundError",
          "evalue": "[Errno 2] No such file or directory: '/tmp/tmpcp08lfus/Cityscapes/Cityspaces/labels/train'",
          "traceback": [
            "\u001b[0;31m---------------------------------------------------------------------------\u001b[0m",
            "\u001b[0;31mFileNotFoundError\u001b[0m                         Traceback (most recent call last)",
            "\u001b[0;32m<ipython-input-9-7fc42135ffc0>\u001b[0m in \u001b[0;36m<cell line: 0>\u001b[0;34m()\u001b[0m\n\u001b[1;32m     28\u001b[0m     \u001b[0;31m#)\u001b[0m\u001b[0;34m\u001b[0m\u001b[0;34m\u001b[0m\u001b[0m\n\u001b[1;32m     29\u001b[0m     \u001b[0mdataset_path\u001b[0m \u001b[0;34m=\u001b[0m \u001b[0mtmpdir\u001b[0m\u001b[0;34m+\u001b[0m\u001b[0;34m\"/Cityscapes/Cityspaces\"\u001b[0m\u001b[0;34m\u001b[0m\u001b[0;34m\u001b[0m\u001b[0m\n\u001b[0;32m---> 30\u001b[0;31m     \u001b[0mdeeplab_train\u001b[0m\u001b[0;34m(\u001b[0m\u001b[0mdataset_path\u001b[0m\u001b[0;34m)\u001b[0m\u001b[0;34m\u001b[0m\u001b[0;34m\u001b[0m\u001b[0m\n\u001b[0m",
            "\u001b[0;32m/content/drive/MyDrive/MLDL2024_project1/train.py\u001b[0m in \u001b[0;36mdeeplab_train\u001b[0;34m(dataset_path)\u001b[0m\n\u001b[1;32m     27\u001b[0m     \u001b[0mlabel_dir\u001b[0m \u001b[0;34m=\u001b[0m \u001b[0mdataset_path\u001b[0m \u001b[0;34m+\u001b[0m \u001b[0;34m\"/labels/train\"\u001b[0m\u001b[0;34m\u001b[0m\u001b[0;34m\u001b[0m\u001b[0m\n\u001b[1;32m     28\u001b[0m \u001b[0;34m\u001b[0m\u001b[0m\n\u001b[0;32m---> 29\u001b[0;31m     dataset = CityScapesSegmentation(\n\u001b[0m\u001b[1;32m     30\u001b[0m         \u001b[0mimage_dir\u001b[0m\u001b[0;34m=\u001b[0m\u001b[0mimage_dir\u001b[0m\u001b[0;34m,\u001b[0m\u001b[0;34m\u001b[0m\u001b[0;34m\u001b[0m\u001b[0m\n\u001b[1;32m     31\u001b[0m         \u001b[0mlabel_dir\u001b[0m\u001b[0;34m=\u001b[0m\u001b[0mlabel_dir\u001b[0m\u001b[0;34m,\u001b[0m\u001b[0;34m\u001b[0m\u001b[0;34m\u001b[0m\u001b[0m\n",
            "\u001b[0;32m/content/drive/MyDrive/MLDL2024_project1/datasets/cityscapes.py\u001b[0m in \u001b[0;36m__init__\u001b[0;34m(self, image_dir, label_dir, transform, target_transform)\u001b[0m\n\u001b[1;32m     44\u001b[0m         ])\n\u001b[1;32m     45\u001b[0m         self.labels = sorted([\n\u001b[0;32m---> 46\u001b[0;31m             \u001b[0mos\u001b[0m\u001b[0;34m.\u001b[0m\u001b[0mpath\u001b[0m\u001b[0;34m.\u001b[0m\u001b[0mjoin\u001b[0m\u001b[0;34m(\u001b[0m\u001b[0mlabel_dir\u001b[0m\u001b[0;34m,\u001b[0m \u001b[0mfname\u001b[0m\u001b[0;34m)\u001b[0m \u001b[0;32mfor\u001b[0m \u001b[0mfname\u001b[0m \u001b[0;32min\u001b[0m \u001b[0mos\u001b[0m\u001b[0;34m.\u001b[0m\u001b[0mlistdir\u001b[0m\u001b[0;34m(\u001b[0m\u001b[0mlabel_dir\u001b[0m\u001b[0;34m)\u001b[0m\u001b[0;34m\u001b[0m\u001b[0;34m\u001b[0m\u001b[0m\n\u001b[0m\u001b[1;32m     47\u001b[0m             \u001b[0;32mif\u001b[0m \u001b[0mfname\u001b[0m\u001b[0;34m.\u001b[0m\u001b[0mendswith\u001b[0m\u001b[0;34m(\u001b[0m\u001b[0;34m\".png\"\u001b[0m\u001b[0;34m)\u001b[0m\u001b[0;34m\u001b[0m\u001b[0;34m\u001b[0m\u001b[0m\n\u001b[1;32m     48\u001b[0m         ])\n",
            "\u001b[0;31mFileNotFoundError\u001b[0m: [Errno 2] No such file or directory: '/tmp/tmpcp08lfus/Cityscapes/Cityspaces/labels/train'"
          ]
        }
      ]
    },
    {
      "cell_type": "code",
      "source": [],
      "metadata": {
        "id": "9pt4D4j89jTY"
      },
      "execution_count": null,
      "outputs": []
    }
  ]
}