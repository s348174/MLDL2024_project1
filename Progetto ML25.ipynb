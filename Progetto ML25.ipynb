{
  "cells": [
    {
      "cell_type": "code",
      "execution_count": null,
      "metadata": {
        "id": "36xvd24zrqqh",
        "outputId": "0ff91256-5a6d-4b34-8ec4-9666911f56c8",
        "colab": {
          "base_uri": "https://localhost:8080/"
        }
      },
      "outputs": [
        {
          "output_type": "stream",
          "name": "stdout",
          "text": [
            "Collecting fvcore\n",
            "  Downloading fvcore-0.1.5.post20221221.tar.gz (50 kB)\n",
            "\u001b[?25l     \u001b[90m━━━━━━━━━━━━━━━━━━━━━━━━━━━━━━━━━━━━━━━━\u001b[0m \u001b[32m0.0/50.2 kB\u001b[0m \u001b[31m?\u001b[0m eta \u001b[36m-:--:--\u001b[0m\r\u001b[2K     \u001b[90m━━━━━━━━━━━━━━━━━━━━━━━━━━━━━━━━━━━━━━━━\u001b[0m \u001b[32m50.2/50.2 kB\u001b[0m \u001b[31m2.9 MB/s\u001b[0m eta \u001b[36m0:00:00\u001b[0m\n",
            "\u001b[?25h  Preparing metadata (setup.py) ... \u001b[?25l\u001b[?25hdone\n",
            "Requirement already satisfied: numpy in /usr/local/lib/python3.11/dist-packages (from fvcore) (2.0.2)\n",
            "Collecting yacs>=0.1.6 (from fvcore)\n",
            "  Downloading yacs-0.1.8-py3-none-any.whl.metadata (639 bytes)\n",
            "Requirement already satisfied: pyyaml>=5.1 in /usr/local/lib/python3.11/dist-packages (from fvcore) (6.0.2)\n",
            "Requirement already satisfied: tqdm in /usr/local/lib/python3.11/dist-packages (from fvcore) (4.67.1)\n",
            "Requirement already satisfied: termcolor>=1.1 in /usr/local/lib/python3.11/dist-packages (from fvcore) (3.1.0)\n",
            "Requirement already satisfied: Pillow in /usr/local/lib/python3.11/dist-packages (from fvcore) (11.2.1)\n",
            "Requirement already satisfied: tabulate in /usr/local/lib/python3.11/dist-packages (from fvcore) (0.9.0)\n",
            "Collecting iopath>=0.1.7 (from fvcore)\n",
            "  Downloading iopath-0.1.10.tar.gz (42 kB)\n",
            "\u001b[2K     \u001b[90m━━━━━━━━━━━━━━━━━━━━━━━━━━━━━━━━━━━━━━━━\u001b[0m \u001b[32m42.2/42.2 kB\u001b[0m \u001b[31m3.6 MB/s\u001b[0m eta \u001b[36m0:00:00\u001b[0m\n",
            "\u001b[?25h  Preparing metadata (setup.py) ... \u001b[?25l\u001b[?25hdone\n",
            "Requirement already satisfied: typing_extensions in /usr/local/lib/python3.11/dist-packages (from iopath>=0.1.7->fvcore) (4.13.2)\n",
            "Collecting portalocker (from iopath>=0.1.7->fvcore)\n",
            "  Downloading portalocker-3.1.1-py3-none-any.whl.metadata (8.6 kB)\n",
            "Downloading yacs-0.1.8-py3-none-any.whl (14 kB)\n",
            "Downloading portalocker-3.1.1-py3-none-any.whl (19 kB)\n",
            "Building wheels for collected packages: fvcore, iopath\n",
            "  Building wheel for fvcore (setup.py) ... \u001b[?25l\u001b[?25hdone\n",
            "  Created wheel for fvcore: filename=fvcore-0.1.5.post20221221-py3-none-any.whl size=61397 sha256=ecb9573f5c3d46ee5a8730ad7fcf24b7dee61263748462488c9d2958311d876e\n",
            "  Stored in directory: /root/.cache/pip/wheels/65/71/95/3b8fde5c65c6e4a806e0867c1651dcc71a1cb2f3430e8f355f\n",
            "  Building wheel for iopath (setup.py) ... \u001b[?25l\u001b[?25hdone\n",
            "  Created wheel for iopath: filename=iopath-0.1.10-py3-none-any.whl size=31527 sha256=088ba65edad3f6411abccfde81c647b3065edd635c340f80dbdae1b20fdfbe5f\n",
            "  Stored in directory: /root/.cache/pip/wheels/ba/5e/16/6117f8fe7e9c0c161a795e10d94645ebcf301ccbd01f66d8ec\n",
            "Successfully built fvcore iopath\n",
            "Installing collected packages: yacs, portalocker, iopath, fvcore\n",
            "Successfully installed fvcore-0.1.5.post20221221 iopath-0.1.10 portalocker-3.1.1 yacs-0.1.8\n"
          ]
        }
      ],
      "source": [
        "# 1: RUN AT EVERY NEW RUNTIME\n",
        "import torch\n",
        "import torch.nn as nn\n",
        "import torch.optim as optim\n",
        "from torch.optim import lr_scheduler\n",
        "import torch.backends.cudnn as cudnn\n",
        "from torch.utils.data import Dataset\n",
        "from torch.utils.data import DataLoader\n",
        "from torchvision import datasets\n",
        "from torchvision.transforms import ToTensor, Lambda\n",
        "from torchvision import transforms\n",
        "\n",
        "import matplotlib.pyplot as plt\n",
        "import numpy as np\n",
        "import plotly.express as px\n",
        "from plotly.subplots import make_subplots\n",
        "import plotly.graph_objects as go\n",
        "import pandas as pd\n",
        "import seaborn as sns\n",
        "\n",
        "import time\n",
        "import os\n",
        "from PIL import Image\n",
        "from tempfile import TemporaryDirectory\n",
        "\n",
        "# Install fvcore\n",
        "!pip install -U fvcore"
      ]
    },
    {
      "cell_type": "code",
      "execution_count": null,
      "metadata": {
        "colab": {
          "base_uri": "https://localhost:8080/"
        },
        "id": "eRCAYuL9uH_u",
        "outputId": "8d963a5b-0209-4c4c-93bb-abbe9fff4464"
      },
      "outputs": [
        {
          "output_type": "stream",
          "name": "stdout",
          "text": [
            "Mounted at /content/drive\n"
          ]
        }
      ],
      "source": [
        "# 2: NEED TO RUN AT AVERY NEW RUNTIME\n",
        "# Setup google drive connection\n",
        "from google.colab import drive\n",
        "drive.mount('/content/drive', force_remount=True)\n",
        "import gspread\n",
        "from google.auth import default\n",
        "from google.colab import auth\n",
        "\n",
        "# Autenticazione\n",
        "auth.authenticate_user()\n",
        "creds, _ = default()\n",
        "gc = gspread.authorize(creds)"
      ]
    },
    {
      "cell_type": "code",
      "execution_count": null,
      "metadata": {
        "colab": {
          "base_uri": "https://localhost:8080/"
        },
        "id": "jq91B_2IAZcN",
        "outputId": "fb67b4dc-a8fa-47db-907f-4a36cef3b655"
      },
      "outputs": [
        {
          "output_type": "stream",
          "name": "stderr",
          "text": [
            "UsageError: Line magic function `%#cd` not found.\n"
          ]
        }
      ],
      "source": [
        "# TO BE RUNNED JUST THE FIRST TIME!\n",
        "# Setup git integration\n",
        "#%cd /content/drive/MyDrive\n",
        "#!git clone https://github.com/s348174/MLDL2024_project1.git\n",
        "#%cd"
      ]
    },
    {
      "cell_type": "code",
      "execution_count": null,
      "metadata": {
        "colab": {
          "base_uri": "https://localhost:8080/"
        },
        "id": "XvTUimb9uK5Z",
        "outputId": "d72c5606-0026-4db1-ec72-144cb9721d10"
      },
      "outputs": [
        {
          "output_type": "stream",
          "name": "stdout",
          "text": [
            "/content/drive/MyDrive/MLDL2024_project1\n",
            "remote: Enumerating objects: 27, done.\u001b[K\n",
            "remote: Counting objects: 100% (27/27), done.\u001b[K\n",
            "remote: Compressing objects: 100% (22/22), done.\u001b[K\n",
            "remote: Total 24 (delta 16), reused 3 (delta 2), pack-reused 0 (from 0)\u001b[K\n",
            "Unpacking objects: 100% (24/24), 7.42 KiB | 9.00 KiB/s, done.\n",
            "From https://github.com/s348174/MLDL2024_project1\n",
            "   c6161fb..9d4c6e8  master     -> origin/master\n",
            "Updating c6161fb..9d4c6e8\n",
            "Fast-forward\n",
            " Progetto ML25.ipynb | 149 \u001b[32m+++++++++++++++++++++++++++++++++\u001b[m\u001b[31m-------------------\u001b[m\n",
            " train.py            |  97 \u001b[32m++++++++++++++++++++++++++++++++\u001b[m\u001b[31m--\u001b[m\n",
            " 2 files changed, 189 insertions(+), 57 deletions(-)\n",
            "/root\n"
          ]
        }
      ],
      "source": [
        "# 3. RUN EVERYTIME IN ORDER TO AVOID CONFLICTS\n",
        "# Update drive git directory\n",
        "%cd /content/drive/MyDrive/MLDL2024_project1\n",
        "!git pull\n",
        "%cd\n"
      ]
    },
    {
      "cell_type": "code",
      "source": [
        "# 4. RUN TO REMOUNT DRIVE AND APPLY CHANGES\n",
        "drive.mount('/content/drive', force_remount=True)"
      ],
      "metadata": {
        "colab": {
          "base_uri": "https://localhost:8080/"
        },
        "id": "5PS3wj1SMPI6",
        "outputId": "ba7cc1a2-44d7-465e-dca7-09180d1d3db0"
      },
      "execution_count": null,
      "outputs": [
        {
          "output_type": "stream",
          "name": "stdout",
          "text": [
            "Mounted at /content/drive\n"
          ]
        }
      ]
    },
    {
      "cell_type": "code",
      "execution_count": null,
      "metadata": {
        "colab": {
          "base_uri": "https://localhost:8080/",
          "height": 211
        },
        "id": "ce9lSdNSyOin",
        "outputId": "a10ee454-a2ee-43b7-f075-e35d39449db4"
      },
      "outputs": [
        {
          "output_type": "error",
          "ename": "TypeError",
          "evalue": "deeplab_train() takes from 3 to 4 positional arguments but 5 were given",
          "traceback": [
            "\u001b[0;31m---------------------------------------------------------------------------\u001b[0m",
            "\u001b[0;31mTypeError\u001b[0m                                 Traceback (most recent call last)",
            "\u001b[0;32m<ipython-input-44-8540d0b16783>\u001b[0m in \u001b[0;36m<cell line: 0>\u001b[0;34m()\u001b[0m\n\u001b[1;32m     43\u001b[0m     \u001b[0mdataset_path\u001b[0m \u001b[0;34m=\u001b[0m \u001b[0mtmpdir\u001b[0m\u001b[0;34m+\u001b[0m\u001b[0;34m\"/Cityscapes/Cityspaces\"\u001b[0m\u001b[0;34m\u001b[0m\u001b[0;34m\u001b[0m\u001b[0m\n\u001b[1;32m     44\u001b[0m     \u001b[0mpretrained_path\u001b[0m \u001b[0;34m=\u001b[0m \u001b[0mworkspace_path\u001b[0m \u001b[0;34m+\u001b[0m \u001b[0;34m\"/deeplab_resnet_pretrained_imagenet.pth\"\u001b[0m\u001b[0;34m\u001b[0m\u001b[0;34m\u001b[0m\u001b[0m\n\u001b[0;32m---> 45\u001b[0;31m     \u001b[0mdeeplab_train\u001b[0m\u001b[0;34m(\u001b[0m\u001b[0mdataset_path\u001b[0m\u001b[0;34m,\u001b[0m \u001b[0mworkspace_path\u001b[0m\u001b[0;34m,\u001b[0m \u001b[0mpretrained_path\u001b[0m\u001b[0;34m,\u001b[0m \u001b[0mnum_epochs\u001b[0m\u001b[0;34m,\u001b[0m \u001b[0mbatch_size\u001b[0m\u001b[0;34m)\u001b[0m\u001b[0;34m\u001b[0m\u001b[0;34m\u001b[0m\u001b[0m\n\u001b[0m\u001b[1;32m     46\u001b[0m     \u001b[0mmodel_path\u001b[0m \u001b[0;34m=\u001b[0m \u001b[0mworkspace_path\u001b[0m \u001b[0;34m+\u001b[0m \u001b[0;34m\"/export/deeplabv2_final.pth\"\u001b[0m\u001b[0;34m\u001b[0m\u001b[0;34m\u001b[0m\u001b[0m\n\u001b[1;32m     47\u001b[0m     \u001b[0mdeeplab_test\u001b[0m\u001b[0;34m(\u001b[0m\u001b[0mdataset_path\u001b[0m\u001b[0;34m,\u001b[0m \u001b[0mmodel_path\u001b[0m\u001b[0;34m)\u001b[0m\u001b[0;34m\u001b[0m\u001b[0;34m\u001b[0m\u001b[0m\n",
            "\u001b[0;31mTypeError\u001b[0m: deeplab_train() takes from 3 to 4 positional arguments but 5 were given"
          ]
        }
      ],
      "source": [
        "# 5A. RUN THIS CELL TO TRAIN DEEPLAB ON CITYSCAPES\n",
        "import sys\n",
        "import os\n",
        "from tempfile import TemporaryDirectory\n",
        "\n",
        "# Add the directory containing train.py to the system path\n",
        "google_drive_path = '/content/drive/MyDrive/MLDL2024_project1'\n",
        "sys.path.append(google_drive_path)\n",
        "datasets_folder_path = '/content/drive/MyDrive/MLDL2024_project1/datasets'\n",
        "sys.path.append(datasets_folder_path)\n",
        "models_path = '/content/drive/MyDrive/MLDL2024_project1/models/deeplabv2'\n",
        "sys.path.append(models_path)\n",
        "from train import deeplab_train, deeplab_test\n",
        "\n",
        "# Open zipfile\n",
        "import zipfile\n",
        "zip_path = '/content/drive/MyDrive/machine_learning_shared_2025/Cityscapes.zip'\n",
        "workspace_path = google_drive_path\n",
        "with zipfile.ZipFile(zip_path) as z:\n",
        "  # Mostra i file contenuti\n",
        "  #print(\"Contenuto dello ZIP:\", z.namelist())\n",
        "  with TemporaryDirectory() as tmpdir:\n",
        "    z.extractall(tmpdir)\n",
        "    #image_folder_path=tmpdir+\"/Cityscapes/Cityspaces/images/train\"\n",
        "    #train_data = datasets.ImageFolder(\n",
        "    #    root=image_folder_path,\n",
        "    #    transform=ToTensor()\n",
        "    #)\n",
        "    #test_folder_path=tmpdir+\"/Cityscapes/Cityspaces/images/test\"\n",
        "    #test_data = datasets.ImageFolder(\n",
        "    #    root=image_folder_path,\n",
        "    #    transform=ToTensor()\n",
        "    #)\n",
        "\n",
        "    # Creates symlink to data folder\n",
        "    real_path = \"tmpdir\"\n",
        "    #destinazione_symlink = \"/tmp/tmpcp08lfus\"\n",
        "    #if not os.path.exists(destinazione_symlink):\n",
        "    #    os.symlink(real_path, destinazione_symlink)\n",
        "\n",
        "    num_epochs = 50\n",
        "    batch_size = 4\n",
        "    dataset_path = tmpdir+\"/Cityscapes/Cityspaces\"\n",
        "    pretrained_path = workspace_path + \"/deeplab_resnet_pretrained_imagenet.pth\"\n",
        "    deeplab_train(dataset_path, workspace_path, pretrained_path, num_epochs = num_epochs, batch_size = batch_size)\n",
        "    model_path = workspace_path + \"/export/deeplabv2_final.pth\"\n",
        "    deeplab_test(dataset_path, model_path)"
      ]
    },
    {
      "cell_type": "code",
      "source": [
        "# 5B. RUN THIS CELL TO TRAIN BISENET ON CITYSCAPES\n",
        "import sys\n",
        "import os\n",
        "from tempfile import TemporaryDirectory\n",
        "\n",
        "# Add the directory containing train.py to the system path\n",
        "google_drive_path = '/content/drive/MyDrive/MLDL2024_project1'\n",
        "sys.path.append(google_drive_path)\n",
        "datasets_folder_path = '/content/drive/MyDrive/MLDL2024_project1/datasets'\n",
        "sys.path.append(datasets_folder_path)\n",
        "models_path = '/content/drive/MyDrive/MLDL2024_project1/models/bisenet'\n",
        "sys.path.append(models_path)\n",
        "from train import bisenet_train, bisenet_test\n",
        "\n",
        "# Open zipfile\n",
        "import zipfile\n",
        "zip_path = '/content/drive/MyDrive/machine_learning_shared_2025/Cityscapes.zip'\n",
        "workspace_path = google_drive_path\n",
        "with zipfile.ZipFile(zip_path) as z:\n",
        "  # Mostra i file contenuti\n",
        "  #print(\"Contenuto dello ZIP:\", z.namelist())\n",
        "  with TemporaryDirectory() as tmpdir:\n",
        "    z.extractall(tmpdir)\n",
        "    #image_folder_path=tmpdir+\"/Cityscapes/Cityspaces/images/train\"\n",
        "    #train_data = datasets.ImageFolder(\n",
        "    #    root=image_folder_path,\n",
        "    #    transform=ToTensor()\n",
        "    #)\n",
        "    #test_folder_path=tmpdir+\"/Cityscapes/Cityspaces/images/test\"\n",
        "    #test_data = datasets.ImageFolder(\n",
        "    #    root=image_folder_path,\n",
        "    #    transform=ToTensor()\n",
        "    #)\n",
        "\n",
        "    # Creates symlink to data folder\n",
        "    real_path = \"tmpdir\"\n",
        "    #destinazione_symlink = \"/tmp/tmpcp08lfus\"\n",
        "    #if not os.path.exists(destinazione_symlink):\n",
        "    #    os.symlink(real_path, destinazione_symlink)\n",
        "\n",
        "    num_epochs = 50\n",
        "    batch_size = 2\n",
        "    dataset_path = tmpdir+\"/Cityscapes/Cityspaces\"\n",
        "    bisenet_train(dataset_path, workspace_path, num_epochs = num_epochs, batch_size = batch_size)\n",
        "    model_path = workspace_path + \"/export/bisenet_final.pth\"\n",
        "    bisenet_test(dataset_path, model_path)"
      ],
      "metadata": {
        "colab": {
          "base_uri": "https://localhost:8080/",
          "height": 1000
        },
        "id": "Kf6DnI4eL6EG",
        "outputId": "ca7417da-8b10-4118-d1e4-25a911cd7bf4"
      },
      "execution_count": null,
      "outputs": [
        {
          "output_type": "stream",
          "name": "stdout",
          "text": [
            "Found 1572 images and 1572 labels\n",
            "Image map: 1572\n",
            "Matched 1572 image-label pairs\n"
          ]
        },
        {
          "output_type": "stream",
          "name": "stderr",
          "text": [
            "Downloading: \"https://download.pytorch.org/models/resnet18-f37072fd.pth\" to /root/.cache/torch/hub/checkpoints/resnet18-f37072fd.pth\n",
            "100%|██████████| 44.7M/44.7M [00:00<00:00, 188MB/s]\n",
            "Downloading: \"https://download.pytorch.org/models/resnet101-63fe2227.pth\" to /root/.cache/torch/hub/checkpoints/resnet101-63fe2227.pth\n",
            "100%|██████████| 171M/171M [00:01<00:00, 170MB/s]\n"
          ]
        },
        {
          "output_type": "stream",
          "name": "stdout",
          "text": [
            "BiSeNet model saved at epoch 0\n",
            "BiSeNet model saved at epoch 2\n",
            "BiSeNet model saved at epoch 4\n",
            "BiSeNet model saved at epoch 6\n",
            "BiSeNet model saved at epoch 8\n",
            "BiSeNet model saved at epoch 10\n",
            "BiSeNet model saved at epoch 12\n",
            "BiSeNet model saved at epoch 14\n",
            "BiSeNet model saved at epoch 16\n",
            "BiSeNet model saved at epoch 18\n",
            "BiSeNet model saved at epoch 20\n",
            "BiSeNet model saved at epoch 22\n",
            "BiSeNet model saved at epoch 24\n",
            "BiSeNet model saved at epoch 26\n",
            "BiSeNet model saved at epoch 28\n",
            "BiSeNet model saved at epoch 30\n",
            "BiSeNet model saved at epoch 32\n",
            "BiSeNet model saved at epoch 34\n",
            "BiSeNet model saved at epoch 36\n",
            "BiSeNet model saved at epoch 38\n",
            "BiSeNet model saved at epoch 40\n",
            "BiSeNet model saved at epoch 42\n",
            "BiSeNet model saved at epoch 44\n",
            "BiSeNet model saved at epoch 46\n",
            "BiSeNet model saved at epoch 48\n",
            "BiSeNet model saved as bisenet_final.pth\n",
            "Found 500 images and 500 labels\n",
            "Image map: 500\n",
            "Matched 500 image-label pairs\n"
          ]
        },
        {
          "output_type": "error",
          "ename": "RuntimeError",
          "evalue": "Error(s) in loading state_dict for ResNetMulti:\n\tMissing key(s) in state_dict: \"conv1.weight\", \"bn1.weight\", \"bn1.bias\", \"bn1.running_mean\", \"bn1.running_var\", \"layer1.0.conv1.weight\", \"layer1.0.bn1.weight\", \"layer1.0.bn1.bias\", \"layer1.0.bn1.running_mean\", \"layer1.0.bn1.running_var\", \"layer1.0.conv2.weight\", \"layer1.0.bn2.weight\", \"layer1.0.bn2.bias\", \"layer1.0.bn2.running_mean\", \"layer1.0.bn2.running_var\", \"layer1.0.conv3.weight\", \"layer1.0.bn3.weight\", \"layer1.0.bn3.bias\", \"layer1.0.bn3.running_mean\", \"layer1.0.bn3.running_var\", \"layer1.0.downsample.0.weight\", \"layer1.0.downsample.1.weight\", \"layer1.0.downsample.1.bias\", \"layer1.0.downsample.1.running_mean\", \"layer1.0.downsample.1.running_var\", \"layer1.1.conv1.weight\", \"layer1.1.bn1.weight\", \"layer1.1.bn1.bias\", \"layer1.1.bn1.running_mean\", \"layer1.1.bn1.running_var\", \"layer1.1.conv2.weight\", \"layer1.1.bn2.weight\", \"layer1.1.bn2.bias\", \"layer1.1.bn2.running_mean\", \"layer1.1.bn2.running_var\", \"layer1.1.conv3.weight\", \"layer1.1.bn3.weight\", \"layer1.1.bn3.bias\", \"layer1.1.bn3.running_mean\", \"layer1.1.bn3.running_var\", \"layer1.2.conv1.weight\", \"layer1.2.bn1.weight\", \"layer1.2.bn1.bias\", \"layer1.2.bn1.running_mean\", \"layer1.2.bn1.running_var\", \"layer1.2.conv2.weight\", \"layer1.2.bn2.weight\", \"layer1.2.bn2.bias\", \"layer1.2.bn2.running_mean\", \"layer1.2.bn2.running_var\", \"layer1.2.conv3.weight\", \"layer1.2.bn3.weight\", \"layer1.2.bn3.bias\", \"layer1.2.bn3.running_mean\", \"layer1.2.bn3.running_var\", \"layer2.0.conv1.weight\", \"layer2.0.bn1.weight\", \"layer2.0.bn1.bias\", \"layer2.0.bn1.running_mean\", \"layer2.0.bn1.running_var\", \"layer2.0.conv2.weight\", \"layer2.0.bn2.weight\", \"layer2.0.bn2.bias\", \"layer2.0.bn2.running_mean\", \"layer2.0.bn2.running_var\", \"layer2.0.conv3.weight\", \"layer2.0.bn3.weight\", \"layer2.0.bn3.bias\", \"layer2.0.bn3.running_mean\", \"layer2.0.bn3.running_var\", \"layer2.0.downsample.0.weight\", \"layer2.0.downsample.1.weight\", \"layer2.0.downsample.1.bias\", \"layer2.0.downsample.1.running_mean\", \"layer2.0.downsample.1.running_var\", \"layer2.1.conv1.weight\", \"layer2.1.bn1.weight\", \"layer2.1.bn1.bias\", \"layer2.1.bn1.running_mean\", \"layer2.1.bn1.running_var\", \"layer2.1.conv2.weight\", \"layer2.1.bn2.weight\", \"layer2.1.bn2.bias\", \"layer2.1.bn2.running_mean\", \"layer2.1.bn2.running_var\", \"layer2.1.conv3.weight\", \"layer2.1.bn3.weight\", \"layer2.1.bn3.bias\", \"layer2.1.bn3.running_mean\", \"layer2.1.bn3.running_var\", \"layer2.2.conv1.weight\", \"layer2.2.bn1.weight\", \"layer2.2.bn1.bias\", \"layer2.2.bn1.running_mean\", \"layer2.2.bn1.running_var\", \"layer2.2.conv2.weight\", \"layer2.2.bn2.weight\", \"layer2.2.bn2.bias\", \"layer2.2.bn2.running_mean\", \"layer2.2.bn2.running_var\", \"layer2.2.conv3.weight\", \"layer2.2.bn3.weight\", \"layer2.2.bn3.bias\", \"layer2.2.bn3.running_mean\", \"layer2.2.bn3.running_var\", \"layer2.3.conv1.weight\", \"layer2.3.bn1.weight\", \"layer2.3.bn1.bias\", \"layer2.3.bn1.running_mean\", \"layer2.3.bn1.running_var\", \"layer2.3.conv2.weight\", \"layer2.3.bn2.weight\", \"layer2.3.bn2.bias\", \"layer2.3.bn2.running_mean\", \"layer2.3.bn2.running_var\", \"layer2.3.conv3.weight\", \"layer2.3.bn3.weight\", \"layer2.3.bn3.bias\", \"layer2.3.bn3.running_mean\", \"layer2.3.bn3.running_var\", \"layer3.0.conv1.weight\", \"layer3.0.bn1.weight\", \"layer3.0.bn1.bias\", \"layer3.0.bn1.running_mean\", \"layer3.0.bn1.running_var\", \"layer3.0.conv2.weight\", \"layer3.0.bn2.weight\", \"layer3.0.bn2.bias\", \"layer3.0.bn2.running_mean\", \"layer3.0.bn2.running_var\", \"layer3.0.conv3.weight\", \"layer3.0.bn3.weight\", \"layer3.0.bn3.bias\", \"layer3.0.bn3.running_mean\", \"layer3.0.bn3.running_var\", \"layer3.0.downsample.0.weight\", \"layer3.0.downsample.1.weight\", \"layer3.0.downsample.1.bias\", \"layer3.0.downsample.1.running_mean\", \"layer3.0.downsample.1.running_var\", \"layer3.1.conv1.weight\", \"layer3.1.bn1.weight\", \"layer3.1.bn1.bias\", \"layer3.1.bn1.running_mean\", \"layer3.1.bn1.running_var\", \"layer3.1.conv2.weight\", \"layer3.1.bn2.weight\", \"layer3.1.bn2.bias\", \"layer3.1.bn2.running_mean\", \"layer3.1.bn2.running_var\", \"layer3.1.conv3.weight\", \"layer3.1.bn3.weight\", \"layer3.1.bn3.bias\", \"layer3.1.bn3.running_mean\", \"layer3.1.bn3.running_var\", \"layer3.2.conv1.weight\", \"layer3.2.bn1.weight\", \"layer3.2.bn1.bias\", \"layer3.2.bn1.running_mean\", \"layer3.2.bn1.running_var\", \"layer3.2.conv2.weight\", \"layer3.2.bn2.weight\", \"layer3.2.bn2.bias\", \"layer3.2.bn2.running_mean\", \"layer3.2.bn2.running_var\", \"layer3.2.conv3.weight\", \"layer3.2.bn3.weight\", \"layer3.2.bn3.bias\", \"layer3.2.bn3.running_mean\", \"layer3.2.bn3.running_var\", \"layer3.3.conv1.weight\", \"layer3.3.bn1.weight\", \"layer3.3.bn1.bias\", \"layer3.3.bn1.running_mean\", \"layer3.3.bn1.running_var\", \"layer3.3.conv2.weight\", \"layer3.3.bn2.weight\", \"layer3.3.bn2.bias\", \"layer3.3.bn2.running_mean\", \"layer3.3.bn2.running_var\", \"layer3.3.conv3.weight\", \"layer3.3.bn3.weight\", \"layer3.3.bn3.bias\", \"layer3.3.bn3.running_mean\", \"layer3.3.bn3.running_var\", \"layer3.4.conv1.weight\", \"layer3.4.bn1.weight\", \"layer3.4.bn1.bias\", \"layer3.4.bn1.running_mean\", \"layer3.4.bn1.running_var\", \"layer3.4.conv2.weight\", \"layer3.4.bn2.weight\", \"layer3.4.bn2.bias\", \"layer3.4.bn2.running_mean\", \"layer3.4.bn2.running_var\", \"layer3.4.conv3.weight\", \"layer3.4.bn3.weight\", \"layer3.4.bn3.bias\", \"layer3.4.bn3.running_mean\", \"layer3.4.bn3.running_var\", \"layer3.5.conv1.weight\", \"layer3.5.bn1.weight\", \"layer3.5.bn1.bias\", \"layer3.5.bn1.running_mean\", \"layer3.5.bn1.running_var\", \"layer3.5.conv2.weight\", \"layer3.5.bn2.weight\", \"layer3.5.bn2.bias\", \"layer3.5.bn2.running_mean\", \"layer3.5.bn2.running_var\", \"layer3.5.conv3.weight\", \"layer3.5.bn3.weight\", \"layer3.5.bn3.bias\", \"layer3.5.bn3.running_mean\", \"layer3.5.bn3.running_var\", \"layer3.6.conv1.weight\", \"layer3.6.bn1.weight\", \"layer3.6.bn1.bias\", \"layer3.6.bn1.running_mean\", \"layer3.6.bn1.running_var\", \"layer3.6.conv2.weight\", \"layer3.6.bn2.weight\", \"layer3.6.bn2.bias\", \"layer3.6.bn2.running_mean\", \"layer3.6.bn2.running_var\", \"layer3.6.conv3.weight\", \"layer3.6.bn3.weight\", \"layer3.6.bn3.bias\", \"layer3.6.bn3.running_mean\", \"layer3.6.bn3.running_var\", \"layer3.7.conv1.weight\", \"layer3.7.bn1.weight\", \"layer3.7.bn1.bias\", \"layer3.7.bn1.running_mean\", \"layer3.7.bn1.running_var\", \"layer3.7.conv2.weight\", \"layer3.7.bn2.weight\", \"layer3.7.bn2.bias\", \"layer3.7.bn2.running_mean\", \"layer3.7.bn2.running_var\", \"layer3.7.conv3.weight\", \"layer3.7.bn3.weight\", \"layer3.7.bn3.bias\", \"layer3.7.bn3.running_mean\", \"layer3.7.bn3.running_var\", \"layer3.8.conv1.weight\", \"layer3.8.bn1.weight\", \"layer3.8.bn1.bias\", \"layer3.8.bn1.running_mean\", \"layer3.8.bn1.running_var\", \"layer3.8.conv2.weight\", \"layer3.8.bn2.weight\", \"layer3.8.bn2.bias\", \"layer3.8.bn2.running_mean\", \"layer3.8.bn2.running_var\", \"layer3.8.conv3.weight\", \"layer3.8.bn3.weight\", \"layer3.8.bn3.bias\", \"layer3.8.bn3.running_mean\", \"layer3.8.bn3.running_var\", \"layer3.9.conv1.weight\", \"layer3.9.bn1.weight\", \"layer3.9.bn1.bias\", \"layer3.9.bn1.running_mean\", \"layer3.9.bn1.running_var\", \"layer3.9.conv2.weight\", \"layer3.9.bn2.weight\", \"layer3.9.bn2.bias\", \"layer3.9.bn2.running_mean\", \"layer3.9.bn2.running_var\", \"layer3.9.conv3.weight\", \"layer3.9.bn3.weight\", \"layer3.9.bn3.bias\", \"layer3.9.bn3.running_mean\", \"layer3.9.bn3.running_var\", \"layer3.10.conv1.weight\", \"layer3.10.bn1.weight\", \"layer3.10.bn1.bias\", \"layer3.10.bn1.running_mean\", \"layer3.10.bn1.running_var\", \"layer3.10.conv2.weight\", \"layer3.10.bn2.weight\", \"layer3.10.bn2.bias\", \"layer3.10.bn2.running_mean\", \"layer3.10.bn2.running_var\", \"layer3.10.conv3.weight\", \"layer3.10.bn3.weight\", \"layer3.10.bn3.bias\", \"layer3.10.bn3.running_mean\", \"layer3.10.bn3.running_var\", \"layer3.11.conv1.weight\", \"layer3.11.bn1.weight\", \"layer3.11.bn1.bias\", \"layer3.11.bn1.running_mean\", \"layer3.11.bn1.running_var\", \"layer3.11.conv2.weight\", \"layer3.11.bn2.weight\", \"layer3.11.bn2.bias\", \"layer3.11.bn2.running_mean\", \"layer3.11.bn2.running_var\", \"layer3.11.conv3.weight\", \"layer3.11.bn3.weight\", \"layer3.11.bn3.bias\", \"layer3.11.bn3.running_mean\", \"layer3.11.bn3.running_var\", \"layer3.12.conv1.weight\", \"layer3.12.bn1.weight\", \"layer3.12.bn1.bias\", \"layer3.12.bn1.running_mean\", \"layer3.12.bn1.running_var\", \"layer3.12.conv2.weight\", \"layer3.12.bn2.weight\", \"layer3.12.bn2.bias\", \"layer3.12.bn2.running_mean\", \"layer3.12.bn2.running_var\", \"layer3.12.conv3.weight\", \"layer3.12.bn3.weight\", \"layer3.12.bn3.bias\", \"layer3.12.bn3.running_mean\", \"layer3.12.bn3.running_var\", \"layer3.13.conv1.weight\", \"layer3.13.bn1.weight\", \"layer3.13.bn1.bias\", \"layer3.13.bn1.running_mean\", \"layer3.13.bn1.running_var\", \"layer3.13.conv2.weight\", \"layer3.13.bn2.weight\", \"layer3.13.bn2.bias\", \"layer3.13.bn2.running_mean\", \"layer3.13.bn2.running_var\", \"layer3.13.conv3.weight\", \"layer3.13.bn3.weight\", \"layer3.13.bn3.bias\", \"layer3.13.bn3.running_mean\", \"layer3.13.bn3.running_var\", \"layer3.14.conv1.weight\", \"layer3.14.bn1.weight\", \"layer3.14.bn1.bias\", \"layer3.14.bn1.running_mean\", \"layer3.14.bn1.running_var\", \"layer3.14.conv2.weight\", \"layer3.14.bn2.weight\", \"layer3.14.bn2.bias\", \"layer3.14.bn2.running_mean\", \"layer3.14.bn2.running_var\", \"layer3.14.conv3.weight\", \"layer3.14.bn3.weight\", \"layer3.14.bn3.bias\", \"layer3.14.bn3.running_mean\", \"layer3.14.bn3.running_var\", \"layer3.15.conv1.weight\", \"layer3.15.bn1.weight\", \"layer3.15.bn1.bias\", \"layer3.15.bn1.running_mean\", \"layer3.15.bn1.running_var\", \"layer3.15.conv2.weight\", \"layer3.15.bn2.weight\", \"layer3.15.bn2.bias\", \"layer3.15.bn2.running_mean\", \"layer3.15.bn2.running_var\", \"layer3.15.conv3.weight\", \"layer3.15.bn3.weight\", \"layer3.15.bn3.bias\", \"layer3.15.bn3.running_mean\", \"layer3.15.bn3.running_var\", \"layer3.16.conv1.weight\", \"layer3.16.bn1.weight\", \"layer3.16.bn1.bias\", \"layer3.16.bn1.running_mean\", \"layer3.16.bn1.running_var\", \"layer3.16.conv2.weight\", \"layer3.16.bn2.weight\", \"layer3.16.bn2.bias\", \"layer3.16.bn2.running_mean\", \"layer3.16.bn2.running_var\", \"layer3.16.conv3.weight\", \"layer3.16.bn3.weight\", \"layer3.16.bn3.bias\", \"layer3.16.bn3.running_mean\", \"layer3.16.bn3.running_var\", \"layer3.17.conv1.weight\", \"layer3.17.bn1.weight\", \"layer3.17.bn1.bias\", \"layer3.17.bn1.running_mean\", \"layer3.17.bn1.running_var\", \"layer3.17.conv2.weight\", \"layer3.17.bn2.weight\", \"layer3.17.bn2.bias\", \"layer3.17.bn2.running_mean\", \"layer3.17.bn2.running_var\", \"layer3.17.conv3.weight\", \"layer3.17.bn3.weight\", \"layer3.17.bn3.bias\", \"layer3.17.bn3.running_mean\", \"layer3.17.bn3.running_var\", \"layer3.18.conv1.weight\", \"layer3.18.bn1.weight\", \"layer3.18.bn1.bias\", \"layer3.18.bn1.running_mean\", \"layer3.18.bn1.running_var\", \"layer3.18.conv2.weight\", \"layer3.18.bn2.weight\", \"layer3.18.bn2.bias\", \"layer3.18.bn2.running_mean\", \"layer3.18.bn2.running_var\", \"layer3.18.conv3.weight\", \"layer3.18.bn3.weight\", \"layer3.18.bn3.bias\", \"layer3.18.bn3.running_mean\", \"layer3.18.bn3.running_var\", \"layer3.19.conv1.weight\", \"layer3.19.bn1.weight\", \"layer3.19.bn1.bias\", \"layer3.19.bn1.running_mean\", \"layer3.19.bn1.running_var\", \"layer3.19.conv2.weight\", \"layer3.19.bn2.weight\", \"layer3.19.bn2.bias\", \"layer3.19.bn2.running_mean\", \"layer3.19.bn2.running_var\", \"layer3.19.conv3.weight\", \"layer3.19.bn3.weight\", \"layer3.19.bn3.bias\", \"layer3.19.bn3.running_mean\", \"layer3.19.bn3.running_var\", \"layer3.20.conv1.weight\", \"layer3.20.bn1.weight\", \"layer3.20.bn1.bias\", \"layer3.20.bn1.running_mean\", \"layer3.20.bn1.running_var\", \"layer3.20.conv2.weight\", \"layer3.20.bn2.weight\", \"layer3.20.bn2.bias\", \"layer3.20.bn2.running_mean\", \"layer3.20.bn2.running_var\", \"layer3.20.conv3.weight\", \"layer3.20.bn3.weight\", \"layer3.20.bn3.bias\", \"layer3.20.bn3.running_mean\", \"layer3.20.bn3.running_var\", \"layer3.21.conv1.weight\", \"layer3.21.bn1.weight\", \"layer3.21.bn1.bias\", \"layer3.21.bn1.running_mean\", \"layer3.21.bn1.running_var\", \"layer3.21.conv2.weight\", \"layer3.21.bn2.weight\", \"layer3.21.bn2.bias\", \"layer3.21.bn2.running_mean\", \"layer3.21.bn2.running_var\", \"layer3.21.conv3.weight\", \"layer3.21.bn3.weight\", \"layer3.21.bn3.bias\", \"layer3.21.bn3.running_mean\", \"layer3.21.bn3.running_var\", \"layer3.22.conv1.weight\", \"layer3.22.bn1.weight\", \"layer3.22.bn1.bias\", \"layer3.22.bn1.running_mean\", \"layer3.22.bn1.running_var\", \"layer3.22.conv2.weight\", \"layer3.22.bn2.weight\", \"layer3.22.bn2.bias\", \"layer3.22.bn2.running_mean\", \"layer3.22.bn2.running_var\", \"layer3.22.conv3.weight\", \"layer3.22.bn3.weight\", \"layer3.22.bn3.bias\", \"layer3.22.bn3.running_mean\", \"layer3.22.bn3.running_var\", \"layer4.0.conv1.weight\", \"layer4.0.bn1.weight\", \"layer4.0.bn1.bias\", \"layer4.0.bn1.running_mean\", \"layer4.0.bn1.running_var\", \"layer4.0.conv2.weight\", \"layer4.0.bn2.weight\", \"layer4.0.bn2.bias\", \"layer4.0.bn2.running_mean\", \"layer4.0.bn2.running_var\", \"layer4.0.conv3.weight\", \"layer4.0.bn3.weight\", \"layer4.0.bn3.bias\", \"layer4.0.bn3.running_mean\", \"layer4.0.bn3.running_var\", \"layer4.0.downsample.0.weight\", \"layer4.0.downsample.1.weight\", \"layer4.0.downsample.1.bias\", \"layer4.0.downsample.1.running_mean\", \"layer4.0.downsample.1.running_var\", \"layer4.1.conv1.weight\", \"layer4.1.bn1.weight\", \"layer4.1.bn1.bias\", \"layer4.1.bn1.running_mean\", \"layer4.1.bn1.running_var\", \"layer4.1.conv2.weight\", \"layer4.1.bn2.weight\", \"layer4.1.bn2.bias\", \"layer4.1.bn2.running_mean\", \"layer4.1.bn2.running_var\", \"layer4.1.conv3.weight\", \"layer4.1.bn3.weight\", \"layer4.1.bn3.bias\", \"layer4.1.bn3.running_mean\", \"layer4.1.bn3.running_var\", \"layer4.2.conv1.weight\", \"layer4.2.bn1.weight\", \"layer4.2.bn1.bias\", \"layer4.2.bn1.running_mean\", \"layer4.2.bn1.running_var\", \"layer4.2.conv2.weight\", \"layer4.2.bn2.weight\", \"layer4.2.bn2.bias\", \"layer4.2.bn2.running_mean\", \"layer4.2.bn2.running_var\", \"layer4.2.conv3.weight\", \"layer4.2.bn3.weight\", \"layer4.2.bn3.bias\", \"layer4.2.bn3.running_mean\", \"layer4.2.bn3.running_var\", \"layer6.conv2d_list.0.weight\", \"layer6.conv2d_list.0.bias\", \"layer6.conv2d_list.1.weight\", \"layer6.conv2d_list.1.bias\", \"layer6.conv2d_list.2.weight\", \"layer6.conv2d_list.2.bias\", \"layer6.conv2d_list.3.weight\", \"layer6.conv2d_list.3.bias\". \n\tUnexpected key(s) in state_dict: \"saptial_path.convblock1.conv1.weight\", \"saptial_path.convblock1.bn.weight\", \"saptial_path.convblock1.bn.bias\", \"saptial_path.convblock1.bn.running_mean\", \"saptial_path.convblock1.bn.running_var\", \"saptial_path.convblock1.bn.num_batches_tracked\", \"saptial_path.convblock2.conv1.weight\", \"saptial_path.convblock2.bn.weight\", \"saptial_path.convblock2.bn.bias\", \"saptial_path.convblock2.bn.running_mean\", \"saptial_path.convblock2.bn.running_var\", \"saptial_path.convblock2.bn.num_batches_tracked\", \"saptial_path.convblock3.conv1.weight\", \"saptial_path.convblock3.bn.weight\", \"saptial_path.convblock3.bn.bias\", \"saptial_path.convblock3.bn.running_mean\", \"saptial_path.convblock3.bn.running_var\", \"saptial_path.convblock3.bn.num_batches_tracked\", \"context_path.features.conv1.weight\", \"context_path.features.bn1.weight\", \"context_path.features.bn1.bias\", \"context_path.features.bn1.running_mean\", \"context_path.features.bn1.running_var\", \"context_path.features.bn1.num_batches_tracked\", \"context_path.features.layer1.0.conv1.weight\", \"context_path.features.layer1.0.bn1.weight\", \"context_path.features.layer1.0.bn1.bias\", \"context_path.features.layer1.0.bn1.running_mean\", \"context_path.features.layer1.0.bn1.running_var\", \"context_path.features.layer1.0.bn1.num_batches_tracked\", \"context_path.features.layer1.0.conv2.weight\", \"context_path.features.layer1.0.bn2.weight\", \"context_path.features.layer1.0.bn2.bias\", \"context_path.features.layer1.0.bn2.running_mean\", \"context_path.features.layer1.0.bn2.running_var\", \"context_path.features.layer1.0.bn2.num_batches_tracked\", \"context_path.features.layer1.1.conv1.weight\", \"context_path.features.layer1.1.bn1.weight\", \"context_path.features.layer1.1.bn1.bias\", \"context_path.features.layer1.1.bn1.running_mean\", \"context_path.features.layer1.1.bn1.running_var\", \"context_path.features.layer1.1.bn1.num_batches_tracked\", \"context_path.features.layer1.1.conv2.weight\", \"context_path.features.layer1.1.bn2.weight\", \"context_path.features.layer1.1.bn2.bias\", \"context_path.features.layer1.1.bn2.running_mean\", \"context_path.features.layer1.1.bn2.running_var\", \"context_path.features.layer1.1.bn2.num_batches_tracked\", \"context_path.features.layer2.0.conv1.weight\", \"context_path.features.layer2.0.bn1.weight\", \"context_path.features.layer2.0.bn1.bias\", \"context_path.features.layer2.0.bn1.running_mean\", \"context_path.features.layer2.0.bn1.running_var\", \"context_path.features.layer2.0.bn1.num_batches_tracked\", \"context_path.features.layer2.0.conv2.weight\", \"context_path.features.layer2.0.bn2.weight\", \"context_path.features.layer2.0.bn2.bias\", \"context_path.features.layer2.0.bn2.running_mean\", \"context_path.features.layer2.0.bn2.running_var\", \"context_path.features.layer2.0.bn2.num_batches_tracked\", \"context_path.features.layer2.0.downsample.0.weight\", \"context_path.features.layer2.0.downsample.1.weight\", \"context_path.features.layer2.0.downsample.1.bias\", \"context_path.features.layer2.0.downsample.1.running_mean\", \"context_path.features.layer2.0.downsample.1.running_var\", \"context_path.features.layer2.0.downsample.1.num_batches_tracked\", \"context_path.features.layer2.1.conv1.weight\", \"context_path.features.layer2.1.bn1.weight\", \"context_path.features.layer2.1.bn1.bias\", \"context_path.features.layer2.1.bn1.running_mean\", \"context_path.features.layer2.1.bn1.running_var\", \"context_path.features.layer2.1.bn1.num_batches_tracked\", \"context_path.features.layer2.1.conv2.weight\", \"context_path.features.layer2.1.bn2.weight\", \"context_path.features.layer2.1.bn2.bias\", \"context_path.features.layer2.1.bn2.running_mean\", \"context_path.features.layer2.1.bn2.running_var\", \"context_path.features.layer2.1.bn2.num_batches_tracked\", \"context_path.features.layer3.0.conv1.weight\", \"context_path.features.layer3.0.bn1.weight\", \"context_path.features.layer3.0.bn1.bias\", \"context_path.features.layer3.0.bn1.running_mean\", \"context_path.features.layer3.0.bn1.running_var\", \"context_path.features.layer3.0.bn1.num_batches_tracked\", \"context_path.features.layer3.0.conv2.weight\", \"context_path.features.layer3.0.bn2.weight\", \"context_path.features.layer3.0.bn2.bias\", \"context_path.features.layer3.0.bn2.running_mean\", \"context_path.features.layer3.0.bn2.running_var\", \"context_path.features.layer3.0.bn2.num_batches_tracked\", \"context_path.features.layer3.0.downsample.0.weight\", \"context_path.features.layer3.0.downsample.1.weight\", \"context_path.features.layer3.0.downsample.1.bias\", \"context_path.features.layer3.0.downsample.1.running_mean\", \"context_path.features.layer3.0.downsample.1.running_var\", \"context_path.features.layer3.0.downsample.1.num_batches_tracked\", \"context_path.features.layer3.1.conv1.weight\", \"context_path.features.layer3.1.bn1.weight\", \"context_path.features.layer3.1.bn1.bias\", \"context_path.features.layer3.1.bn1.running_mean\", \"context_path.features.layer3.1.bn1.running_var\", \"context_path.features.layer3.1.bn1.num_batches_tracked\", \"context_path.features.layer3.1.conv2.weight\", \"context_path.features.layer3.1.bn2.weight\", \"context_path.features.layer3.1.bn2.bias\", \"context_path.features.layer3.1.bn2.running_mean\", \"context_path.features.layer3.1.bn2.running_var\", \"context_path.features.layer3.1.bn2.num_batches_tracked\", \"context_path.features.layer4.0.conv1.weight\", \"context_path.features.layer4.0.bn1.weight\", \"context_path.features.layer4.0.bn1.bias\", \"context_path.features.layer4.0.bn1.running_mean\", \"context_path.features.layer4.0.bn1.running_var\", \"context_path.features.layer4.0.bn1.num_batches_tracked\", \"context_path.features.layer4.0.conv2.weight\", \"context_path.features.layer4.0.bn2.weight\", \"context_path.features.layer4.0.bn2.bias\", \"context_path.features.layer4.0.bn2.running_mean\", \"context_path.features.layer4.0.bn2.running_var\", \"context_path.features.layer4.0.bn2.num_batches_tracked\", \"context_path.features.layer4.0.downsample.0.weight\", \"context_path.features.layer4.0.downsample.1.weight\", \"context_path.features.layer4.0.downsample.1.bias\", \"context_path.features.layer4.0.downsample.1.running_mean\", \"context_path.features.layer4.0.downsample.1.running_var\", \"context_path.features.layer4.0.downsample.1.num_batches_tracked\", \"context_path.features.layer4.1.conv1.weight\", \"context_path.features.layer4.1.bn1.weight\", \"context_path.features.layer4.1.bn1.bias\", \"context_path.features.layer4.1.bn1.running_mean\", \"context_path.features.layer4.1.bn1.running_var\", \"context_path.features.layer4.1.bn1.num_batches_tracked\", \"context_path.features.layer4.1.conv2.weight\", \"context_path.features.layer4.1.bn2.weight\", \"context_path.features.layer4.1.bn2.bias\", \"context_path.features.layer4.1.bn2.running_mean\", \"context_path.features.layer4.1.bn2.running_var\", \"context_path.features.layer4.1.bn2.num_batches_tracked\", \"context_path.features.fc.weight\", \"context_path.features.fc.bias\", \"context_path.conv1.weight\", \"context_path.bn1.weight\", \"context_path.bn1.bias\", \"context_path.bn1.running_mean\", \"context_path.bn1.running_var\", \"context_path.bn1.num_batches_tracked\", \"context_path.layer1.0.conv1.weight\", \"context_path.layer1.0.bn1.weight\", \"context_path.layer1.0.bn1.bias\", \"context_path.layer1.0.bn1.running_mean\", \"context_path.layer1.0.bn1.running_var\", \"context_path.layer1.0.bn1.num_batches_tracked\", \"context_path.layer1.0.conv2.weight\", \"context_path.layer1.0.bn2.weight\", \"context_path.layer1.0.bn2.bias\", \"context_path.layer1.0.bn2.running_mean\", \"context_path.layer1.0.bn2.running_var\", \"context_path.layer1.0.bn2.num_batches_tracked\", \"context_path.layer1.1.conv1.weight\", \"context_path.layer1.1.bn1.weight\", \"context_path.layer1.1.bn1.bias\", \"context_path.layer1.1.bn1.running_mean\", \"context_path.layer1.1.bn1.running_var\", \"context_path.layer1.1.bn1.num_batches_tracked\", \"context_path.layer1.1.conv2.weight\", \"context_path.layer1.1.bn2.weight\", \"context_path.layer1.1.bn2.bias\", \"context_path.layer1.1.bn2.running_mean\", \"context_path.layer1.1.bn2.running_var\", \"context_path.layer1.1.bn2.num_batches_tracked\", \"context_path.layer2.0.conv1.weight\", \"context_path.layer2.0.bn1.weight\", \"context_path.layer2.0.bn1.bias\", \"context_path.layer2.0.bn1.running_mean\", \"context_path.layer2.0.bn1.running_var\", \"context_path.layer2.0.bn1.num_batches_tracked\", \"context_path.layer2.0.conv2.weight\", \"context_path.layer2.0.bn2.weight\", \"context_path.layer2.0.bn2.bias\", \"context_path.layer2.0.bn2.running_mean\", \"context_path.layer2.0.bn2.running_var\", \"context_path.layer2.0.bn2.num_batches_tracked\", \"context_path.layer2.0.downsample.0.weight\", \"context_path.layer2.0.downsample.1.weight\", \"context_path.layer2.0.downsample.1.bias\", \"context_path.layer2.0.downsample.1.running_mean\", \"context_path.layer2.0.downsample.1.running_var\", \"context_path.layer2.0.downsample.1.num_batches_tracked\", \"context_path.layer2.1.conv1.weight\", \"context_path.layer2.1.bn1.weight\", \"context_path.layer2.1.bn1.bias\", \"context_path.layer2.1.bn1.running_mean\", \"context_path.layer2.1.bn1.running_var\", \"context_path.layer2.1.bn1.num_batches_tracked\", \"context_path.layer2.1.conv2.weight\", \"context_path.layer2.1.bn2.weight\", \"context_path.layer2.1.bn2.bias\", \"context_path.layer2.1.bn2.running_mean\", \"context_path.layer2.1.bn2.running_var\", \"context_path.layer2.1.bn2.num_batches_tracked\", \"context_path.layer3.0.conv1.weight\", \"context_path.layer3.0.bn1.weight\", \"context_path.layer3.0.bn1.bias\", \"context_path.layer3.0.bn1.running_mean\", \"context_path.layer3.0.bn1.running_var\", \"context_path.layer3.0.bn1.num_batches_tracked\", \"context_path.layer3.0.conv2.weight\", \"context_path.layer3.0.bn2.weight\", \"context_path.layer3.0.bn2.bias\", \"context_path.layer3.0.bn2.running_mean\", \"context_path.layer3.0.bn2.running_var\", \"context_path.layer3.0.bn2.num_batches_tracked\", \"context_path.layer3.0.downsample.0.weight\", \"context_path.layer3.0.downsample.1.weight\", \"context_path.layer3.0.downsample.1.bias\", \"context_path.layer3.0.downsample.1.running_mean\", \"context_path.layer3.0.downsample.1.running_var\", \"context_path.layer3.0.downsample.1.num_batches_tracked\", \"context_path.layer3.1.conv1.weight\", \"context_path.layer3.1.bn1.weight\", \"context_path.layer3.1.bn1.bias\", \"context_path.layer3.1.bn1.running_mean\", \"context_path.layer3.1.bn1.running_var\", \"context_path.layer3.1.bn1.num_batches_tracked\", \"context_path.layer3.1.conv2.weight\", \"context_path.layer3.1.bn2.weight\", \"context_path.layer3.1.bn2.bias\", \"context_path.layer3.1.bn2.running_mean\", \"context_path.layer3.1.bn2.running_var\", \"context_path.layer3.1.bn2.num_batches_tracked\", \"context_path.layer4.0.conv1.weight\", \"context_path.layer4.0.bn1.weight\", \"context_path.layer4.0.bn1.bias\", \"context_path.layer4.0.bn1.running_mean\", \"context_path.layer4.0.bn1.running_var\", \"context_path.layer4.0.bn1.num_batches_tracked\", \"context_path.layer4.0.conv2.weight\", \"context_path.layer4.0.bn2.weight\", \"context_path.layer4.0.bn2.bias\", \"context_path.layer4.0.bn2.running_mean\", \"context_path.layer4.0.bn2.running_var\", \"context_path.layer4.0.bn2.num_batches_tracked\", \"context_path.layer4.0.downsample.0.weight\", \"context_path.layer4.0.downsample.1.weight\", \"context_path.layer4.0.downsample.1.bias\", \"context_path.layer4.0.downsample.1.running_mean\", \"context_path.layer4.0.downsample.1.running_var\", \"context_path.layer4.0.downsample.1.num_batches_tracked\", \"context_path.layer4.1.conv1.weight\", \"context_path.layer4.1.bn1.weight\", \"context_path.layer4.1.bn1.bias\", \"context_path.layer4.1.bn1.running_mean\", \"context_path.layer4.1.bn1.running_var\", \"context_path.layer4.1.bn1.num_batches_tracked\", \"context_path.layer4.1.conv2.weight\", \"context_path.layer4.1.bn2.weight\", \"context_path.layer4.1.bn2.bias\", \"context_path.layer4.1.bn2.running_mean\", \"context_path.layer4.1.bn2.running_var\", \"context_path.layer4.1.bn2.num_batches_tracked\", \"attention_refinement_module1.conv.weight\", \"attention_refinement_module1.conv.bias\", \"attention_refinement_module1.bn.weight\", \"attention_refinement_module1.bn.bias\", \"attention_refinement_module1.bn.running_mean\", \"attention_refinement_module1.bn.running_var\", \"attention_refinement_module1.bn.num_batches_tracked\", \"attention_refinement_module2.conv.weight\", \"attention_refinement_module2.conv.bias\", \"attention_refinement_module2.bn.weight\", \"attention_refinement_module2.bn.bias\", \"attention_refinement_module2.bn.running_mean\", \"attention_refinement_module2.bn.running_var\", \"attention_refinement_module2.bn.num_batches_tracked\", \"supervision1.weight\", \"supervision1.bias\", \"supervision2.weight\", \"supervision2.bias\", \"feature_fusion_module.convblock.conv1.weight\", \"feature_fusion_module.convblock.bn.weight\", \"feature_fusion_module.convblock.bn.bias\", \"feature_fusion_module.convblock.bn.running_mean\", \"feature_fusion_module.convblock.bn.running_var\", \"feature_fusion_module.convblock.bn.num_batches_tracked\", \"feature_fusion_module.conv1.weight\", \"feature_fusion_module.conv1.bias\", \"feature_fusion_module.conv2.weight\", \"feature_fusion_module.conv2.bias\", \"conv.weight\", \"conv.bias\". ",
          "traceback": [
            "\u001b[0;31m---------------------------------------------------------------------------\u001b[0m",
            "\u001b[0;31mRuntimeError\u001b[0m                              Traceback (most recent call last)",
            "\u001b[0;32m<ipython-input-5-91ad58d9f052>\u001b[0m in \u001b[0;36m<cell line: 0>\u001b[0;34m()\u001b[0m\n\u001b[1;32m     44\u001b[0m     \u001b[0mbisenet_train\u001b[0m\u001b[0;34m(\u001b[0m\u001b[0mdataset_path\u001b[0m\u001b[0;34m,\u001b[0m \u001b[0mworkspace_path\u001b[0m\u001b[0;34m,\u001b[0m \u001b[0mnum_epochs\u001b[0m \u001b[0;34m=\u001b[0m \u001b[0mnum_epochs\u001b[0m\u001b[0;34m,\u001b[0m \u001b[0mbatch_size\u001b[0m \u001b[0;34m=\u001b[0m \u001b[0mbatch_size\u001b[0m\u001b[0;34m)\u001b[0m\u001b[0;34m\u001b[0m\u001b[0;34m\u001b[0m\u001b[0m\n\u001b[1;32m     45\u001b[0m     \u001b[0mmodel_path\u001b[0m \u001b[0;34m=\u001b[0m \u001b[0mworkspace_path\u001b[0m \u001b[0;34m+\u001b[0m \u001b[0;34m\"/export/bisenet_final.pth\"\u001b[0m\u001b[0;34m\u001b[0m\u001b[0;34m\u001b[0m\u001b[0m\n\u001b[0;32m---> 46\u001b[0;31m     \u001b[0mdeeplab_test\u001b[0m\u001b[0;34m(\u001b[0m\u001b[0mdataset_path\u001b[0m\u001b[0;34m,\u001b[0m \u001b[0mmodel_path\u001b[0m\u001b[0;34m)\u001b[0m\u001b[0;34m\u001b[0m\u001b[0;34m\u001b[0m\u001b[0m\n\u001b[0m",
            "\u001b[0;32m/content/drive/MyDrive/MLDL2024_project1/train.py\u001b[0m in \u001b[0;36mdeeplab_test\u001b[0;34m(dataset_path, model_path, save_dir, num_classes)\u001b[0m\n\u001b[1;32m    187\u001b[0m     \u001b[0;31m# Load model\u001b[0m\u001b[0;34m\u001b[0m\u001b[0;34m\u001b[0m\u001b[0m\n\u001b[1;32m    188\u001b[0m     \u001b[0mmodel\u001b[0m \u001b[0;34m=\u001b[0m \u001b[0mget_deeplab_v2\u001b[0m\u001b[0;34m(\u001b[0m\u001b[0mnum_classes\u001b[0m\u001b[0;34m=\u001b[0m\u001b[0mnum_classes\u001b[0m\u001b[0;34m,\u001b[0m \u001b[0mpretrain\u001b[0m\u001b[0;34m=\u001b[0m\u001b[0;32mFalse\u001b[0m\u001b[0;34m)\u001b[0m \u001b[0;31m# Pretrain is False because weights are inserted in the next line\u001b[0m\u001b[0;34m\u001b[0m\u001b[0;34m\u001b[0m\u001b[0m\n\u001b[0;32m--> 189\u001b[0;31m     \u001b[0mmodel\u001b[0m\u001b[0;34m.\u001b[0m\u001b[0mload_state_dict\u001b[0m\u001b[0;34m(\u001b[0m\u001b[0mtorch\u001b[0m\u001b[0;34m.\u001b[0m\u001b[0mload\u001b[0m\u001b[0;34m(\u001b[0m\u001b[0mmodel_path\u001b[0m\u001b[0;34m,\u001b[0m \u001b[0mmap_location\u001b[0m\u001b[0;34m=\u001b[0m\u001b[0mdevice\u001b[0m\u001b[0;34m)\u001b[0m\u001b[0;34m)\u001b[0m\u001b[0;34m\u001b[0m\u001b[0;34m\u001b[0m\u001b[0m\n\u001b[0m\u001b[1;32m    190\u001b[0m     \u001b[0mmodel\u001b[0m \u001b[0;34m=\u001b[0m \u001b[0mmodel\u001b[0m\u001b[0;34m.\u001b[0m\u001b[0mto\u001b[0m\u001b[0;34m(\u001b[0m\u001b[0mdevice\u001b[0m\u001b[0;34m)\u001b[0m\u001b[0;34m\u001b[0m\u001b[0;34m\u001b[0m\u001b[0m\n\u001b[1;32m    191\u001b[0m     \u001b[0mmodel\u001b[0m\u001b[0;34m.\u001b[0m\u001b[0meval\u001b[0m\u001b[0;34m(\u001b[0m\u001b[0;34m)\u001b[0m\u001b[0;34m\u001b[0m\u001b[0;34m\u001b[0m\u001b[0m\n",
            "\u001b[0;32m/usr/local/lib/python3.11/dist-packages/torch/nn/modules/module.py\u001b[0m in \u001b[0;36mload_state_dict\u001b[0;34m(self, state_dict, strict, assign)\u001b[0m\n\u001b[1;32m   2579\u001b[0m \u001b[0;34m\u001b[0m\u001b[0m\n\u001b[1;32m   2580\u001b[0m         \u001b[0;32mif\u001b[0m \u001b[0mlen\u001b[0m\u001b[0;34m(\u001b[0m\u001b[0merror_msgs\u001b[0m\u001b[0;34m)\u001b[0m \u001b[0;34m>\u001b[0m \u001b[0;36m0\u001b[0m\u001b[0;34m:\u001b[0m\u001b[0;34m\u001b[0m\u001b[0;34m\u001b[0m\u001b[0m\n\u001b[0;32m-> 2581\u001b[0;31m             raise RuntimeError(\n\u001b[0m\u001b[1;32m   2582\u001b[0m                 \"Error(s) in loading state_dict for {}:\\n\\t{}\".format(\n\u001b[1;32m   2583\u001b[0m                     \u001b[0mself\u001b[0m\u001b[0;34m.\u001b[0m\u001b[0m__class__\u001b[0m\u001b[0;34m.\u001b[0m\u001b[0m__name__\u001b[0m\u001b[0;34m,\u001b[0m \u001b[0;34m\"\\n\\t\"\u001b[0m\u001b[0;34m.\u001b[0m\u001b[0mjoin\u001b[0m\u001b[0;34m(\u001b[0m\u001b[0merror_msgs\u001b[0m\u001b[0;34m)\u001b[0m\u001b[0;34m\u001b[0m\u001b[0;34m\u001b[0m\u001b[0m\n",
            "\u001b[0;31mRuntimeError\u001b[0m: Error(s) in loading state_dict for ResNetMulti:\n\tMissing key(s) in state_dict: \"conv1.weight\", \"bn1.weight\", \"bn1.bias\", \"bn1.running_mean\", \"bn1.running_var\", \"layer1.0.conv1.weight\", \"layer1.0.bn1.weight\", \"layer1.0.bn1.bias\", \"layer1.0.bn1.running_mean\", \"layer1.0.bn1.running_var\", \"layer1.0.conv2.weight\", \"layer1.0.bn2.weight\", \"layer1.0.bn2.bias\", \"layer1.0.bn2.running_mean\", \"layer1.0.bn2.running_var\", \"layer1.0.conv3.weight\", \"layer1.0.bn3.weight\", \"layer1.0.bn3.bias\", \"layer1.0.bn3.running_mean\", \"layer1.0.bn3.running_var\", \"layer1.0.downsample.0.weight\", \"layer1.0.downsample.1.weight\", \"layer1.0.downsample.1.bias\", \"layer1.0.downsample.1.running_mean\", \"layer1.0.downsample.1.running_var\", \"layer1.1.conv1.weight\", \"layer1.1.bn1.weight\", \"layer1.1.bn1.bias\", \"layer1.1.bn1.running_mean\", \"layer1.1.bn1.running_var\", \"layer1.1.conv2.weight\", \"layer1.1.bn2.weight\", \"layer1.1.bn2.bias\", \"layer1.1.bn2.running_mean\", \"layer1.1.bn2.running_var\", \"layer1.1.conv3.weight\", \"layer1.1.bn3.weight\", \"layer1.1.bn3.bias\", \"layer1.1.bn3.running_mean\", \"layer1.1.bn3.running_var\", \"layer1.2.conv1.weight\", \"layer1.2.bn1.weight\", \"layer1.2.bn1.bias\", \"layer1.2.bn1.running_mean\", \"layer1.2.bn1.running_var\", \"layer1.2.conv2.weight\", \"layer1.2.bn2.weight\", \"layer1.2.bn2.bias\", \"layer1.2.bn2.running_mean\", \"layer1.2.bn2.running_var\", \"layer1.2.conv3.weight\", \"layer1.2.bn3.weight\", \"layer1.2.bn3.bias\", \"layer1.2.bn3.running_mean\", \"layer1.2.bn3.running_var\", \"layer2.0.conv1.weight\", \"layer2.0.bn1.weight\", \"layer2.0.bn1.bias\", \"layer2.0.bn1...\n\tUnexpected key(s) in state_dict: \"saptial_path.convblock1.conv1.weight\", \"saptial_path.convblock1.bn.weight\", \"saptial_path.convblock1.bn.bias\", \"saptial_path.convblock1.bn.running_mean\", \"saptial_path.convblock1.bn.running_var\", \"saptial_path.convblock1.bn.num_batches_tracked\", \"saptial_path.convblock2.conv1.weight\", \"saptial_path.convblock2.bn.weight\", \"saptial_path.convblock2.bn.bias\", \"saptial_path.convblock2.bn.running_mean\", \"saptial_path.convblock2.bn.running_var\", \"saptial_path.convblock2.bn.num_batches_tracked\", \"saptial_path.convblock3.conv1.weight\", \"saptial_path.convblock3.bn.weight\", \"saptial_path.convblock3.bn.bias\", \"saptial_path.convblock3.bn.running_mean\", \"saptial_path.convblock3.bn.running_var\", \"saptial_path.convblock3.bn.num_batches_tracked\", \"context_path.features.conv1.weight\", \"context_path.features.bn1.weight\", \"context_path.features.bn1.bias\", \"context_path.features.bn1.running_mean\", \"context_path.features.bn1.running_var\", \"context_path.features.bn1.num_batches_tracked\", \"context_path.features.layer1.0.conv1.weight\", \"context_path.features.layer1.0.bn1.weight\", \"context_path.features.layer1.0.bn1.bias\", \"context_path.features.layer1.0.bn1.running_mean\", \"context_path.features.layer1.0.bn1.running_var\", \"context_path.features.layer1.0.bn1.num_batches_tracked\", \"context_path.features.layer1.0.conv2.weight\", \"context_path.features.layer1.0.bn2.weight\", \"context_path.features.layer1.0.bn2.bias\", \"context_path.features.layer1.0.bn2.running_mean\", \"c..."
          ]
        }
      ]
    },
    {
      "cell_type": "code",
      "source": [
        "# 6B. RUN THIS CELL TO TRAIN BISENET ON GTA5\n",
        "import sys\n",
        "import os\n",
        "from tempfile import TemporaryDirectory\n",
        "\n",
        "# Add the directory containing train.py to the system path\n",
        "google_drive_path = '/content/drive/MyDrive/MLDL2024_project1'\n",
        "sys.path.append(google_drive_path)\n",
        "datasets_folder_path = '/content/drive/MyDrive/MLDL2024_project1/datasets'\n",
        "sys.path.append(datasets_folder_path)\n",
        "models_path = '/content/drive/MyDrive/MLDL2024_project1/models/bisenet'\n",
        "sys.path.append(models_path)\n",
        "from train import bisenet_on_gta\n",
        "\n",
        "# Open zipfile\n",
        "import zipfile\n",
        "zip_path = '/content/drive/MyDrive/machine_learning_shared_2025/GTA5.zip'\n",
        "workspace_path = google_drive_path\n",
        "with zipfile.ZipFile(zip_path) as z:\n",
        "  # Mostra i file contenuti\n",
        "  #print(\"Contenuto dello ZIP:\", z.namelist())\n",
        "  with TemporaryDirectory() as tmpdir:\n",
        "    z.extractall(tmpdir)\n",
        "    #image_folder_path=tmpdir+\"/Cityscapes/Cityspaces/images/train\"\n",
        "    #train_data = datasets.ImageFolder(\n",
        "    #    root=image_folder_path,\n",
        "    #    transform=ToTensor()\n",
        "    #)\n",
        "    #test_folder_path=tmpdir+\"/Cityscapes/Cityspaces/images/test\"\n",
        "    #test_data = datasets.ImageFolder(\n",
        "    #    root=image_folder_path,\n",
        "    #    transform=ToTensor()\n",
        "    #)\n",
        "\n",
        "    # Creates symlink to data folder\n",
        "    real_path = \"tmpdir\"\n",
        "    #destinazione_symlink = \"/tmp/tmpcp08lfus\"\n",
        "    #if not os.path.exists(destinazione_symlink):\n",
        "    #    os.symlink(real_path, destinazione_symlink)\n",
        "\n",
        "    num_epochs = 50\n",
        "    batch_size = 2\n",
        "    dataset_path = tmpdir+\"/GTA5\"\n",
        "    bisenet_train(dataset_path, workspace_path, num_epochs = num_epochs, batch_size = batch_size)"
      ],
      "metadata": {
        "id": "55lz64EcRbo9"
      },
      "execution_count": null,
      "outputs": []
    },
    {
      "cell_type": "code",
      "execution_count": null,
      "metadata": {
        "id": "9pt4D4j89jTY",
        "outputId": "3cb3d88a-6fe0-4f78-fd91-89313657601e",
        "colab": {
          "base_uri": "https://localhost:8080/"
        }
      },
      "outputs": [
        {
          "output_type": "stream",
          "name": "stdout",
          "text": [
            "Number of CPU cores: 12\n"
          ]
        }
      ],
      "source": [
        "#to check core availability\n",
        "import multiprocessing\n",
        "max_num_workers = multiprocessing.cpu_count() #colab pro has 4 (the default has just 2) (for Emanuele)\n",
        "print(f\"Number of CPU cores: {max_num_workers}\") #when Emanuele runs the code, it prints 8"
      ]
    }
  ],
  "metadata": {
    "accelerator": "GPU",
    "colab": {
      "gpuType": "T4",
      "provenance": [],
      "machine_shape": "hm"
    },
    "kernelspec": {
      "display_name": "Python 3",
      "name": "python3"
    },
    "language_info": {
      "name": "python"
    }
  },
  "nbformat": 4,
  "nbformat_minor": 0
}